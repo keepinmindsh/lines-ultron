{
 "cells": [
  {
   "cell_type": "markdown",
   "id": "2f514a7fd71e4059",
   "metadata": {},
   "source": [
    "# Human Resources Graph Database with Neo4j"
   ]
  },
  {
   "cell_type": "markdown",
   "id": "6e5d0a28",
   "metadata": {},
   "source": [
    "#### Dependany Install"
   ]
  },
  {
   "cell_type": "code",
   "execution_count": 60,
   "id": "45b6226cf4662ae4",
   "metadata": {
    "ExecuteTime": {
     "end_time": "2025-06-05T10:44:33.775647Z",
     "start_time": "2025-06-05T10:44:28.498805Z"
    }
   },
   "outputs": [],
   "source": [
    "%%capture\n",
    "\n",
    "# update or install the necessary libraries\n",
    "\n",
    "%pip install --upgrade numpy scipy pandas\n",
    "%pip install neo4j_genai neo4j openai\n",
    "%pip install --upgrade python-dotenv\n",
    "%pip install --upgrade \\\n",
    "    langchain==0.3.24 \\\n",
    "    langchain-openai==0.3.14 \\\n",
    "    langchain_community\n",
    "%pip install pyodbc --no-binary pyodbc\n",
    "%pip install sqlalchemy\n"
   ]
  },
  {
   "cell_type": "markdown",
   "id": "81371f6e",
   "metadata": {},
   "source": [
    "#### Check Python Executable "
   ]
  },
  {
   "cell_type": "code",
   "execution_count": 61,
   "id": "2941b60a",
   "metadata": {},
   "outputs": [
    {
     "name": "stdout",
     "output_type": "stream",
     "text": [
      "/opt/homebrew/opt/python@3.10/bin/python3.10\n"
     ]
    }
   ],
   "source": [
    "import sys\n",
    "print(sys.executable)"
   ]
  },
  {
   "cell_type": "markdown",
   "id": "70678f64",
   "metadata": {},
   "source": [
    "#### odbc 존재 여부 확인"
   ]
  },
  {
   "cell_type": "markdown",
   "id": "75b33bdd",
   "metadata": {},
   "source": [
    "```shell \n",
    "odbcinst -q -d\n",
    "\n",
    "cat /opt/homebrew/etc/odbcinst.ini\n",
    "```"
   ]
  },
  {
   "cell_type": "markdown",
   "id": "f0c42b65",
   "metadata": {},
   "source": [
    "#### 호출 가능 여부 체크 "
   ]
  },
  {
   "cell_type": "code",
   "execution_count": 75,
   "id": "6b94af4b",
   "metadata": {},
   "outputs": [
    {
     "name": "stdout",
     "output_type": "stream",
     "text": [
      "['ODBC Driver 18 for SQL Server']\n",
      "{}\n"
     ]
    }
   ],
   "source": [
    "import os \n",
    "\n",
    "os.environ[\"LD_LIBRARY_PATH\"] = \"/opt/homebrew/lib\"\n",
    "os.environ[\"DYLD_LIBRARY_PATH\"] = \"/opt/homebrew/lib\"\n",
    "\n",
    "import pyodbc\n",
    "print(pyodbc.drivers())\n",
    "print(pyodbc.dataSources())"
   ]
  },
  {
   "cell_type": "markdown",
   "id": "d4660f4898026041",
   "metadata": {},
   "source": [
    "## HR Resources Load"
   ]
  },
  {
   "cell_type": "markdown",
   "id": "ce56e6ccdc9028c0",
   "metadata": {},
   "source": [
    "#### Environment Variables Setup"
   ]
  },
  {
   "cell_type": "code",
   "execution_count": 76,
   "id": "c7cfda3fe3c62ba9",
   "metadata": {
    "ExecuteTime": {
     "end_time": "2025-06-05T10:51:21.591139Z",
     "start_time": "2025-06-05T10:51:21.578093Z"
    }
   },
   "outputs": [
    {
     "data": {
      "text/plain": [
       "True"
      ]
     },
     "execution_count": 76,
     "metadata": {},
     "output_type": "execute_result"
    }
   ],
   "source": [
    "from dotenv import load_dotenv\n",
    "\n",
    "load_dotenv()"
   ]
  },
  {
   "cell_type": "markdown",
   "id": "af006743d2eb0c6d",
   "metadata": {},
   "source": [
    "#### Load Test Data\n",
    "\n",
    "- SQL Alchemy를 사용하여 MSSQL 데이터베이스에 연결합니다.\n",
    "- `MSSQL_USER`, `MSSQL_PASSWORD`, `MSSQL_SERVER`, `MSSQL_PORT`, `MSSQL_DATABASE`, `MSSQL_DRIVER` 환경 변수를 사용하여 연결 정보를 설정합니다."
   ]
  },
  {
   "cell_type": "code",
   "execution_count": 77,
   "id": "b6888aa669b6c93c",
   "metadata": {
    "ExecuteTime": {
     "end_time": "2025-06-05T10:51:28.485914Z",
     "start_time": "2025-06-05T10:51:28.481675Z"
    }
   },
   "outputs": [],
   "source": [
    "import os\n",
    "from sqlalchemy import create_engine, text\n",
    "from sqlalchemy.engine import URL\n",
    "from sqlalchemy.orm import sessionmaker\n",
    "from sqlalchemy.exc import OperationalError\n",
    "\n",
    "# DSN URL 생성\n",
    "url = URL.create(\n",
    "    drivername=\"mssql+pyodbc\",\n",
    "    username=os.getenv(\"MSSQL_USER\", \"\"),\n",
    "    password=os.getenv(\"MSSQL_PASSWORD\", \"\"),\n",
    "    host=os.getenv(\"MSSQL_SERVER\", \"\"),\n",
    "    port=int(os.getenv(\"MSSQL_PORT\", \"\")),\n",
    "    database=os.getenv(\"MSSQL_DATABASE\", \"\"),\n",
    "    query={\n",
    "        \"driver\": os.getenv(\"MSSQL_DRIVER\", \"\"),\n",
    "        \"TrustServerCertificate\": \"yes\",\n",
    "    },\n",
    ")\n",
    "\n",
    "# SQLAlchemy 엔진 및 세션 생성 (동기용)\n",
    "engine = create_engine(url, pool_pre_ping=True, pool_recycle=1800)\n",
    "\n",
    "SessionLocal = sessionmaker(autocommit=False, autoflush=False, bind=engine)\n",
    "\n",
    "def get_db():\n",
    "    db = SessionLocal()\n",
    "    try:\n",
    "        # 연결 상태 체크\n",
    "        try:\n",
    "            db.execute(text(\"SELECT 1\"))\n",
    "        except OperationalError as e:\n",
    "            raise e\n",
    "        yield db\n",
    "    finally:\n",
    "        db.close()\n"
   ]
  },
  {
   "cell_type": "markdown",
   "id": "09082ca2",
   "metadata": {},
   "source": [
    "#### Load Table \n",
    "\n",
    "- HR Table loaded from MSSQL"
   ]
  },
  {
   "cell_type": "code",
   "execution_count": 78,
   "id": "52a20712",
   "metadata": {},
   "outputs": [],
   "source": [
    "from sqlalchemy import Column, String, Integer, Date, Boolean\n",
    "from sqlalchemy.orm import declarative_base\n",
    "\n",
    "Base = declarative_base()\n",
    "\n",
    "class PasWHrPsn001(Base):\n",
    "    __tablename__ = os.getenv(\"HR_TABLE_1\")\n",
    "    __table_args__ = {\"schema\": os.getenv(\"SCHEMA\")}\n",
    "\n",
    "    PERNR = Column(String, primary_key=True)\n",
    "    ENAME = Column(String)\n",
    "    EMP_STAT_CD = Column(String)\n",
    "    EMP_STAT_NM = Column(String)\n",
    "    GESCH = Column(String)\n",
    "    HIRE_TYPE_DIV = Column(String)\n",
    "    HIRE_TYPE_NM = Column(String)\n",
    "    FJOIN_DT = Column(String)\n",
    "    DEPTIN_DT = Column(String)\n",
    "    RETIRE_DT = Column(String)\n",
    "    PERSK = Column(String)\n",
    "    PERSKNM = Column(String)\n",
    "    BIZUNIT_CD = Column(String)\n",
    "    BIZUNIT_NM = Column(String)\n",
    "    DEPT_CD = Column(String)\n",
    "    DEPT_NM = Column(String)\n",
    "    DEPT_FULL_NM = Column(String)\n",
    "    APTITLE_CD = Column(String)\n",
    "    APTITLE_NM = Column(String)\n",
    "    APTITLE_ORDER = Column(String)\n",
    "    ORG_HEAD_YN = Column(Boolean)\n",
    "    CUR_APCLASS_PRM_DT = Column(String)\n",
    "    APCLASS_CD = Column(String)\n",
    "    APCLASS_NM = Column(String)\n",
    "    APCLASS_ODRG = Column(String)\n",
    "    APLEVEL_CD = Column(String)\n",
    "    APLEVEL_NM = Column(String)\n",
    "    CHIEF_DIV = Column(String)\n",
    "    START_JOB_DT = Column(String)\n",
    "    STELL_CD = Column(String)\n",
    "    STELL_NM = Column(String)\n",
    "    APCOLUM_CD = Column(String)\n",
    "    APCOLUM_NM = Column(String)\n",
    "    EMAIL_ID = Column(String)\n",
    "    CELL_OPEN_YN = Column(String)\n",
    "    CELLPHONE_NO = Column(String)\n",
    "    PHONE_NO = Column(String)\n",
    "    HOME_ZIPCD = Column(String)\n",
    "    RESI_ADDR = Column(String)\n",
    "    RESI_AREA_CD = Column(String)\n",
    "    RESI_AREA_NM = Column(String)\n",
    "    SOCIALO_ZIPCD = Column(String)\n",
    "    SOCIALO_ADDR = Column(String)\n",
    "    SOCIALO_AREA_CD = Column(String)\n",
    "    SOCIALO_AREA_NM = Column(String)\n",
    "    COMP_ZIPCD = Column(String)\n",
    "    COMP_ADDR = Column(String)\n",
    "    COMP_FAXNR = Column(String)\n",
    "    COMP_TEL_NO = Column(String)\n",
    "    OFFICE_TEL_NO = Column(String)\n",
    "    BEBORN_DT = Column(String)\n",
    "    BIRTH_GB = Column(String)\n",
    "    BIRTH_GB_NM = Column(String)\n",
    "    FAM_DT = Column(String)\n",
    "    DWEL_TYPE = Column(String)\n",
    "    REC_SPEC_DESC = Column(String)\n",
    "    MLTRY_SRVC_DIV = Column(String)\n",
    "    DSBLTY_DT = Column(String)\n",
    "    DSBLTY_START_DT = Column(String)\n",
    "    DSBLTY_DIV = Column(String)\n",
    "    DSBLTY_TYPE_CD = Column(String)\n",
    "    DSBLTY_GRD = Column(String)\n",
    "    COUPLE_EMP_YN = Column(String)\n",
    "    LAST_GRAD_CD = Column(String)\n",
    "    LAST_GRAD_NM = Column(String)\n",
    "    LAST_SCHL_CD = Column(String)\n",
    "    LAST_SCHL_NM = Column(String)\n",
    "    LAST_AUSBI_NM = Column(String)\n",
    "    DEGREE_CD = Column(String)\n",
    "    DEGREE_NM = Column(String)\n",
    "    GRADU_YEAR = Column(String)\n",
    "    ROLE_CD = Column(String)\n",
    "    ROLE_NM = Column(String)\n",
    "    WORK_TYPE_CD = Column(String)\n",
    "    WORK_TYPE_NM = Column(String)\n",
    "    WORK_STELL_CD = Column(String)\n",
    "    WORK_STELL_NM = Column(String)\n",
    "    WORK_LVL1_CD = Column(String)\n",
    "    WORK_LVL1_NM = Column(String)\n",
    "    WORK_LVL2_CD1 = Column(String)\n",
    "    WORK_LVL2_NM1 = Column(String)\n",
    "    WORK_LVL2_CD2 = Column(String)\n",
    "    WORK_LVL2_NM2 = Column(String)\n",
    "    INST_LVL1_CD = Column(String)\n",
    "    INST_LVL1_NM = Column(String)\n",
    "    INST_LVL2_CD = Column(String)\n",
    "    INST_LVL2_NM = Column(String)\n",
    "    TECH_LVL1_CD1 = Column(String)\n",
    "    TECH_LVL1_NM1 = Column(String)\n",
    "    TECH_LVL1_CD2 = Column(String)\n",
    "    TECH_LVL1_NM2 = Column(String)\n",
    "    PROD_LVL1_CD1 = Column(String)\n",
    "    PROD_LVL1_NM1 = Column(String)\n",
    "    PROD_LVL1_CD2 = Column(String)\n",
    "    PROD_LVL1_NM2 = Column(String)\n",
    "    MM_COST = Column(String)\n",
    "    ETL_SEQ = Column(Integer)\n",
    "    DTL_BIZ = Column(String)"
   ]
  },
  {
   "cell_type": "code",
   "execution_count": 80,
   "id": "e11ff2f8",
   "metadata": {},
   "outputs": [
    {
     "name": "stdout",
     "output_type": "stream",
     "text": [
      "노준혁 jeonggiyeok@kt.com\n"
     ]
    }
   ],
   "source": [
    "from sqlalchemy import create_engine\n",
    "from sqlalchemy.orm import sessionmaker, Session\n",
    "\n",
    "# DB Connection Information\n",
    "_db = next(get_db())\n",
    "\n",
    "# All Search \n",
    "# all_employees = _db.query(PasWHrPsn001).all()\n",
    "# for emp in all_employees:\n",
    "#     print(emp)\n",
    "\n",
    "# Conditional Search\n",
    "hr_members = _db.query(PasWHrPsn001).filter(PasWHrPsn001.ENAME == \"노준혁\").all()\n",
    "for emp in hr_members:\n",
    "    print(emp.ENAME, emp.EMAIL_ID)"
   ]
  },
  {
   "cell_type": "markdown",
   "id": "e1d79cee",
   "metadata": {},
   "source": [
    "#### Create Cypher Script"
   ]
  },
  {
   "cell_type": "code",
   "execution_count": null,
   "id": "2f7e44b3",
   "metadata": {},
   "outputs": [
    {
     "ename": "AuthError",
     "evalue": "{code: Neo.ClientError.Security.Unauthorized} {message: The client is unauthorized due to authentication failure.}",
     "output_type": "error",
     "traceback": [
      "\u001b[0;31m---------------------------------------------------------------------------\u001b[0m",
      "\u001b[0;31mAuthError\u001b[0m                                 Traceback (most recent call last)",
      "Cell \u001b[0;32mIn[79], line 51\u001b[0m\n\u001b[1;32m     49\u001b[0m hr_members \u001b[38;5;241m=\u001b[39m _db\u001b[38;5;241m.\u001b[39mquery(PasWHrPsn001)\u001b[38;5;241m.\u001b[39mall()\n\u001b[1;32m     50\u001b[0m \u001b[38;5;28;01mfor\u001b[39;00m employee_member \u001b[38;5;129;01min\u001b[39;00m hr_members:\n\u001b[0;32m---> 51\u001b[0m     \u001b[43minsert_person_to_neo4j\u001b[49m\u001b[43m(\u001b[49m\u001b[43mdriver\u001b[49m\u001b[43m,\u001b[49m\u001b[43m  \u001b[49m\u001b[43mmodel_to_dict\u001b[49m\u001b[43m(\u001b[49m\u001b[43memployee_member\u001b[49m\u001b[43m)\u001b[49m\u001b[43m)\u001b[49m\n\u001b[1;32m     52\u001b[0m driver\u001b[38;5;241m.\u001b[39mclose()\n",
      "Cell \u001b[0;32mIn[79], line 33\u001b[0m, in \u001b[0;36minsert_person_to_neo4j\u001b[0;34m(driver, person_data)\u001b[0m\n\u001b[1;32m     31\u001b[0m query, params \u001b[38;5;241m=\u001b[39m generate_create_query(\u001b[38;5;124m\"\u001b[39m\u001b[38;5;124mEmployee\u001b[39m\u001b[38;5;124m\"\u001b[39m, person_data)\n\u001b[1;32m     32\u001b[0m \u001b[38;5;28;01mwith\u001b[39;00m driver\u001b[38;5;241m.\u001b[39msession() \u001b[38;5;28;01mas\u001b[39;00m session:\n\u001b[0;32m---> 33\u001b[0m     \u001b[43msession\u001b[49m\u001b[38;5;241;43m.\u001b[39;49m\u001b[43mrun\u001b[49m\u001b[43m(\u001b[49m\u001b[43mquery\u001b[49m\u001b[43m,\u001b[49m\u001b[43m \u001b[49m\u001b[38;5;241;43m*\u001b[39;49m\u001b[38;5;241;43m*\u001b[39;49m\u001b[43mparams\u001b[49m\u001b[43m)\u001b[49m\n",
      "File \u001b[0;32m/opt/homebrew/lib/python3.10/site-packages/neo4j/_sync/work/session.py:313\u001b[0m, in \u001b[0;36mSession.run\u001b[0;34m(self, query, parameters, **kwargs)\u001b[0m\n\u001b[1;32m    310\u001b[0m     \u001b[38;5;28mself\u001b[39m\u001b[38;5;241m.\u001b[39m_auto_result\u001b[38;5;241m.\u001b[39m_buffer_all()\n\u001b[1;32m    312\u001b[0m \u001b[38;5;28;01mif\u001b[39;00m \u001b[38;5;129;01mnot\u001b[39;00m \u001b[38;5;28mself\u001b[39m\u001b[38;5;241m.\u001b[39m_connection:\n\u001b[0;32m--> 313\u001b[0m     \u001b[38;5;28;43mself\u001b[39;49m\u001b[38;5;241;43m.\u001b[39;49m\u001b[43m_connect\u001b[49m\u001b[43m(\u001b[49m\u001b[38;5;28;43mself\u001b[39;49m\u001b[38;5;241;43m.\u001b[39;49m\u001b[43m_config\u001b[49m\u001b[38;5;241;43m.\u001b[39;49m\u001b[43mdefault_access_mode\u001b[49m\u001b[43m)\u001b[49m\n\u001b[1;32m    314\u001b[0m     \u001b[38;5;28;01massert\u001b[39;00m \u001b[38;5;28mself\u001b[39m\u001b[38;5;241m.\u001b[39m_connection \u001b[38;5;129;01mis\u001b[39;00m \u001b[38;5;129;01mnot\u001b[39;00m \u001b[38;5;28;01mNone\u001b[39;00m\n\u001b[1;32m    315\u001b[0m cx \u001b[38;5;241m=\u001b[39m \u001b[38;5;28mself\u001b[39m\u001b[38;5;241m.\u001b[39m_connection\n",
      "File \u001b[0;32m/opt/homebrew/lib/python3.10/site-packages/neo4j/_sync/work/session.py:136\u001b[0m, in \u001b[0;36mSession._connect\u001b[0;34m(self, access_mode, **acquire_kwargs)\u001b[0m\n\u001b[1;32m    134\u001b[0m     access_mode \u001b[38;5;241m=\u001b[39m \u001b[38;5;28mself\u001b[39m\u001b[38;5;241m.\u001b[39m_config\u001b[38;5;241m.\u001b[39mdefault_access_mode\n\u001b[1;32m    135\u001b[0m \u001b[38;5;28;01mtry\u001b[39;00m:\n\u001b[0;32m--> 136\u001b[0m     \u001b[38;5;28;43msuper\u001b[39;49m\u001b[43m(\u001b[49m\u001b[43m)\u001b[49m\u001b[38;5;241;43m.\u001b[39;49m\u001b[43m_connect\u001b[49m\u001b[43m(\u001b[49m\n\u001b[1;32m    137\u001b[0m \u001b[43m        \u001b[49m\u001b[43maccess_mode\u001b[49m\u001b[43m,\u001b[49m\u001b[43m \u001b[49m\u001b[43mauth\u001b[49m\u001b[38;5;241;43m=\u001b[39;49m\u001b[38;5;28;43mself\u001b[39;49m\u001b[38;5;241;43m.\u001b[39;49m\u001b[43m_config\u001b[49m\u001b[38;5;241;43m.\u001b[39;49m\u001b[43mauth\u001b[49m\u001b[43m,\u001b[49m\u001b[43m \u001b[49m\u001b[38;5;241;43m*\u001b[39;49m\u001b[38;5;241;43m*\u001b[39;49m\u001b[43macquire_kwargs\u001b[49m\n\u001b[1;32m    138\u001b[0m \u001b[43m    \u001b[49m\u001b[43m)\u001b[49m\n\u001b[1;32m    139\u001b[0m \u001b[38;5;28;01mexcept\u001b[39;00m asyncio\u001b[38;5;241m.\u001b[39mCancelledError:\n\u001b[1;32m    140\u001b[0m     \u001b[38;5;28mself\u001b[39m\u001b[38;5;241m.\u001b[39m_handle_cancellation(message\u001b[38;5;241m=\u001b[39m\u001b[38;5;124m\"\u001b[39m\u001b[38;5;124m_connect\u001b[39m\u001b[38;5;124m\"\u001b[39m)\n",
      "File \u001b[0;32m/opt/homebrew/lib/python3.10/site-packages/neo4j/_sync/work/workspace.py:199\u001b[0m, in \u001b[0;36mWorkspace._connect\u001b[0;34m(self, access_mode, auth, **acquire_kwargs)\u001b[0m\n\u001b[1;32m    189\u001b[0m acquire_kwargs_ \u001b[38;5;241m=\u001b[39m {\n\u001b[1;32m    190\u001b[0m     \u001b[38;5;124m\"\u001b[39m\u001b[38;5;124maccess_mode\u001b[39m\u001b[38;5;124m\"\u001b[39m: access_mode,\n\u001b[1;32m    191\u001b[0m     \u001b[38;5;124m\"\u001b[39m\u001b[38;5;124mtimeout\u001b[39m\u001b[38;5;124m\"\u001b[39m: acquisition_timeout,\n\u001b[0;32m   (...)\u001b[0m\n\u001b[1;32m    196\u001b[0m     \u001b[38;5;124m\"\u001b[39m\u001b[38;5;124mdatabase_callback\u001b[39m\u001b[38;5;124m\"\u001b[39m: \u001b[38;5;28mself\u001b[39m\u001b[38;5;241m.\u001b[39m_make_db_resolution_callback(),\n\u001b[1;32m    197\u001b[0m }\n\u001b[1;32m    198\u001b[0m acquire_kwargs_\u001b[38;5;241m.\u001b[39mupdate(acquire_kwargs)\n\u001b[0;32m--> 199\u001b[0m \u001b[38;5;28mself\u001b[39m\u001b[38;5;241m.\u001b[39m_connection \u001b[38;5;241m=\u001b[39m \u001b[38;5;28;43mself\u001b[39;49m\u001b[38;5;241;43m.\u001b[39;49m\u001b[43m_pool\u001b[49m\u001b[38;5;241;43m.\u001b[39;49m\u001b[43macquire\u001b[49m\u001b[43m(\u001b[49m\u001b[38;5;241;43m*\u001b[39;49m\u001b[38;5;241;43m*\u001b[39;49m\u001b[43macquire_kwargs_\u001b[49m\u001b[43m)\u001b[49m\n\u001b[1;32m    200\u001b[0m \u001b[38;5;28;01mif\u001b[39;00m (\n\u001b[1;32m    201\u001b[0m     target_db\u001b[38;5;241m.\u001b[39mguessed\n\u001b[1;32m    202\u001b[0m     \u001b[38;5;129;01mand\u001b[39;00m \u001b[38;5;129;01mnot\u001b[39;00m \u001b[38;5;28mself\u001b[39m\u001b[38;5;241m.\u001b[39m_pinned_database\n\u001b[0;32m   (...)\u001b[0m\n\u001b[1;32m    206\u001b[0m     \u001b[38;5;66;03m# support SSR.\u001b[39;00m\n\u001b[1;32m    207\u001b[0m     \u001b[38;5;66;03m# => we need to fall back to explicit home database resolution\u001b[39;00m\n\u001b[1;32m    208\u001b[0m     log\u001b[38;5;241m.\u001b[39mdebug(\n\u001b[1;32m    209\u001b[0m         \u001b[38;5;124m\"\u001b[39m\u001b[38;5;124m[#0000]  _: <WORKSPACE> detected ssr support race; \u001b[39m\u001b[38;5;124m\"\u001b[39m\n\u001b[1;32m    210\u001b[0m         \u001b[38;5;124m\"\u001b[39m\u001b[38;5;124mfalling back to explicit home database resolution\u001b[39m\u001b[38;5;124m\"\u001b[39m,\n\u001b[1;32m    211\u001b[0m     )\n",
      "File \u001b[0;32m/opt/homebrew/lib/python3.10/site-packages/neo4j/_sync/io/_pool.py:662\u001b[0m, in \u001b[0;36mBoltPool.acquire\u001b[0;34m(self, access_mode, timeout, database, bookmarks, auth, liveness_check_timeout, database_callback)\u001b[0m\n\u001b[1;32m    655\u001b[0m log\u001b[38;5;241m.\u001b[39mdebug(\n\u001b[1;32m    656\u001b[0m     \u001b[38;5;124m\"\u001b[39m\u001b[38;5;124m[#0000]  _: <POOL> acquire direct connection, \u001b[39m\u001b[38;5;124m\"\u001b[39m\n\u001b[1;32m    657\u001b[0m     \u001b[38;5;124m\"\u001b[39m\u001b[38;5;124maccess_mode=\u001b[39m\u001b[38;5;132;01m%r\u001b[39;00m\u001b[38;5;124m, database=\u001b[39m\u001b[38;5;132;01m%r\u001b[39;00m\u001b[38;5;124m\"\u001b[39m,\n\u001b[1;32m    658\u001b[0m     access_mode,\n\u001b[1;32m    659\u001b[0m     database,\n\u001b[1;32m    660\u001b[0m )\n\u001b[1;32m    661\u001b[0m deadline \u001b[38;5;241m=\u001b[39m Deadline\u001b[38;5;241m.\u001b[39mfrom_timeout_or_deadline(timeout)\n\u001b[0;32m--> 662\u001b[0m \u001b[38;5;28;01mreturn\u001b[39;00m \u001b[38;5;28;43mself\u001b[39;49m\u001b[38;5;241;43m.\u001b[39;49m\u001b[43m_acquire\u001b[49m\u001b[43m(\u001b[49m\n\u001b[1;32m    663\u001b[0m \u001b[43m    \u001b[49m\u001b[38;5;28;43mself\u001b[39;49m\u001b[38;5;241;43m.\u001b[39;49m\u001b[43maddress\u001b[49m\u001b[43m,\u001b[49m\u001b[43m \u001b[49m\u001b[43mauth\u001b[49m\u001b[43m,\u001b[49m\u001b[43m \u001b[49m\u001b[43mdeadline\u001b[49m\u001b[43m,\u001b[49m\u001b[43m \u001b[49m\u001b[43mliveness_check_timeout\u001b[49m\n\u001b[1;32m    664\u001b[0m \u001b[43m\u001b[49m\u001b[43m)\u001b[49m\n",
      "File \u001b[0;32m/opt/homebrew/lib/python3.10/site-packages/neo4j/_sync/io/_pool.py:408\u001b[0m, in \u001b[0;36mIOPool._acquire\u001b[0;34m(self, address, auth, deadline, liveness_check_timeout)\u001b[0m\n\u001b[1;32m    403\u001b[0m             \u001b[38;5;28;01mraise\u001b[39;00m ClientError(\n\u001b[1;32m    404\u001b[0m                 \u001b[38;5;124m\"\u001b[39m\u001b[38;5;124mfailed to obtain a connection from the pool within \u001b[39m\u001b[38;5;124m\"\u001b[39m\n\u001b[1;32m    405\u001b[0m                 \u001b[38;5;124mf\u001b[39m\u001b[38;5;124m\"\u001b[39m\u001b[38;5;132;01m{\u001b[39;00mdeadline\u001b[38;5;241m.\u001b[39moriginal_timeout\u001b[38;5;132;01m!r}\u001b[39;00m\u001b[38;5;124ms (timeout)\u001b[39m\u001b[38;5;124m\"\u001b[39m\n\u001b[1;32m    406\u001b[0m             )\n\u001b[1;32m    407\u001b[0m log\u001b[38;5;241m.\u001b[39mdebug(\u001b[38;5;124m\"\u001b[39m\u001b[38;5;124m[#0000]  _: <POOL> trying to hand out new connection\u001b[39m\u001b[38;5;124m\"\u001b[39m)\n\u001b[0;32m--> 408\u001b[0m \u001b[38;5;28;01mreturn\u001b[39;00m \u001b[43mconnection_creator\u001b[49m\u001b[43m(\u001b[49m\u001b[43m)\u001b[49m\n",
      "File \u001b[0;32m/opt/homebrew/lib/python3.10/site-packages/neo4j/_sync/io/_pool.py:230\u001b[0m, in \u001b[0;36mIOPool._acquire_new_later.<locals>.connection_creator\u001b[0;34m()\u001b[0m\n\u001b[1;32m    228\u001b[0m \u001b[38;5;28;01mtry\u001b[39;00m:\n\u001b[1;32m    229\u001b[0m     \u001b[38;5;28;01mtry\u001b[39;00m:\n\u001b[0;32m--> 230\u001b[0m         connection \u001b[38;5;241m=\u001b[39m \u001b[38;5;28;43mself\u001b[39;49m\u001b[38;5;241;43m.\u001b[39;49m\u001b[43mopener\u001b[49m\u001b[43m(\u001b[49m\n\u001b[1;32m    231\u001b[0m \u001b[43m            \u001b[49m\u001b[43maddress\u001b[49m\u001b[43m,\u001b[49m\u001b[43m \u001b[49m\u001b[43mauth\u001b[49m\u001b[43m \u001b[49m\u001b[38;5;129;43;01mor\u001b[39;49;00m\u001b[43m \u001b[49m\u001b[38;5;28;43mself\u001b[39;49m\u001b[38;5;241;43m.\u001b[39;49m\u001b[43mpool_config\u001b[49m\u001b[38;5;241;43m.\u001b[39;49m\u001b[43mauth\u001b[49m\u001b[43m,\u001b[49m\u001b[43m \u001b[49m\u001b[43mdeadline\u001b[49m\n\u001b[1;32m    232\u001b[0m \u001b[43m        \u001b[49m\u001b[43m)\u001b[49m\n\u001b[1;32m    233\u001b[0m     \u001b[38;5;28;01mexcept\u001b[39;00m ServiceUnavailable:\n\u001b[1;32m    234\u001b[0m         \u001b[38;5;28mself\u001b[39m\u001b[38;5;241m.\u001b[39mdeactivate(address)\n",
      "File \u001b[0;32m/opt/homebrew/lib/python3.10/site-packages/neo4j/_sync/io/_pool.py:624\u001b[0m, in \u001b[0;36mBoltPool.open.<locals>.opener\u001b[0;34m(addr, auth_manager, deadline)\u001b[0m\n\u001b[1;32m    623\u001b[0m \u001b[38;5;28;01mdef\u001b[39;00m \u001b[38;5;21mopener\u001b[39m(addr, auth_manager, deadline):\n\u001b[0;32m--> 624\u001b[0m     \u001b[38;5;28;01mreturn\u001b[39;00m \u001b[43mBolt\u001b[49m\u001b[38;5;241;43m.\u001b[39;49m\u001b[43mopen\u001b[49m\u001b[43m(\u001b[49m\n\u001b[1;32m    625\u001b[0m \u001b[43m        \u001b[49m\u001b[43maddr\u001b[49m\u001b[43m,\u001b[49m\n\u001b[1;32m    626\u001b[0m \u001b[43m        \u001b[49m\u001b[43mauth_manager\u001b[49m\u001b[38;5;241;43m=\u001b[39;49m\u001b[43mauth_manager\u001b[49m\u001b[43m,\u001b[49m\n\u001b[1;32m    627\u001b[0m \u001b[43m        \u001b[49m\u001b[43mdeadline\u001b[49m\u001b[38;5;241;43m=\u001b[39;49m\u001b[43mdeadline\u001b[49m\u001b[43m,\u001b[49m\n\u001b[1;32m    628\u001b[0m \u001b[43m        \u001b[49m\u001b[43mrouting_context\u001b[49m\u001b[38;5;241;43m=\u001b[39;49m\u001b[38;5;28;43;01mNone\u001b[39;49;00m\u001b[43m,\u001b[49m\n\u001b[1;32m    629\u001b[0m \u001b[43m        \u001b[49m\u001b[43mpool_config\u001b[49m\u001b[38;5;241;43m=\u001b[39;49m\u001b[43mpool_config\u001b[49m\u001b[43m,\u001b[49m\n\u001b[1;32m    630\u001b[0m \u001b[43m    \u001b[49m\u001b[43m)\u001b[49m\n",
      "File \u001b[0;32m/opt/homebrew/lib/python3.10/site-packages/neo4j/_sync/io/_bolt.py:430\u001b[0m, in \u001b[0;36mBolt.open\u001b[0;34m(cls, address, auth_manager, deadline, routing_context, pool_config)\u001b[0m\n\u001b[1;32m    428\u001b[0m connection\u001b[38;5;241m.\u001b[39msocket\u001b[38;5;241m.\u001b[39mset_deadline(deadline)\n\u001b[1;32m    429\u001b[0m \u001b[38;5;28;01mtry\u001b[39;00m:\n\u001b[0;32m--> 430\u001b[0m     \u001b[43mconnection\u001b[49m\u001b[38;5;241;43m.\u001b[39;49m\u001b[43mhello\u001b[49m\u001b[43m(\u001b[49m\u001b[43m)\u001b[49m\n\u001b[1;32m    431\u001b[0m \u001b[38;5;28;01mfinally\u001b[39;00m:\n\u001b[1;32m    432\u001b[0m     connection\u001b[38;5;241m.\u001b[39msocket\u001b[38;5;241m.\u001b[39mset_deadline(\u001b[38;5;28;01mNone\u001b[39;00m)\n",
      "File \u001b[0;32m/opt/homebrew/lib/python3.10/site-packages/neo4j/_sync/io/_bolt5.py:740\u001b[0m, in \u001b[0;36mBolt5x2.hello\u001b[0;34m(self, dehydration_hooks, hydration_hooks)\u001b[0m\n\u001b[1;32m    738\u001b[0m \u001b[38;5;28mself\u001b[39m\u001b[38;5;241m.\u001b[39mlogon(dehydration_hooks, hydration_hooks)\n\u001b[1;32m    739\u001b[0m \u001b[38;5;28mself\u001b[39m\u001b[38;5;241m.\u001b[39msend_all()\n\u001b[0;32m--> 740\u001b[0m \u001b[38;5;28;43mself\u001b[39;49m\u001b[38;5;241;43m.\u001b[39;49m\u001b[43mfetch_all\u001b[49m\u001b[43m(\u001b[49m\u001b[43m)\u001b[49m\n\u001b[1;32m    741\u001b[0m check_supported_server_product(\u001b[38;5;28mself\u001b[39m\u001b[38;5;241m.\u001b[39mserver_info\u001b[38;5;241m.\u001b[39magent)\n",
      "File \u001b[0;32m/opt/homebrew/lib/python3.10/site-packages/neo4j/_sync/io/_bolt.py:879\u001b[0m, in \u001b[0;36mBolt.fetch_all\u001b[0;34m(self)\u001b[0m\n\u001b[1;32m    877\u001b[0m response \u001b[38;5;241m=\u001b[39m \u001b[38;5;28mself\u001b[39m\u001b[38;5;241m.\u001b[39mresponses[\u001b[38;5;241m0\u001b[39m]\n\u001b[1;32m    878\u001b[0m \u001b[38;5;28;01mwhile\u001b[39;00m \u001b[38;5;129;01mnot\u001b[39;00m response\u001b[38;5;241m.\u001b[39mcomplete:\n\u001b[0;32m--> 879\u001b[0m     detail_delta, summary_delta \u001b[38;5;241m=\u001b[39m \u001b[38;5;28;43mself\u001b[39;49m\u001b[38;5;241;43m.\u001b[39;49m\u001b[43mfetch_message\u001b[49m\u001b[43m(\u001b[49m\u001b[43m)\u001b[49m\n\u001b[1;32m    880\u001b[0m     detail_count \u001b[38;5;241m+\u001b[39m\u001b[38;5;241m=\u001b[39m detail_delta\n\u001b[1;32m    881\u001b[0m     summary_count \u001b[38;5;241m+\u001b[39m\u001b[38;5;241m=\u001b[39m summary_delta\n",
      "File \u001b[0;32m/opt/homebrew/lib/python3.10/site-packages/neo4j/_sync/io/_bolt.py:864\u001b[0m, in \u001b[0;36mBolt.fetch_message\u001b[0;34m(self)\u001b[0m\n\u001b[1;32m    860\u001b[0m \u001b[38;5;66;03m# Receive exactly one message\u001b[39;00m\n\u001b[1;32m    861\u001b[0m tag, fields \u001b[38;5;241m=\u001b[39m \u001b[38;5;28mself\u001b[39m\u001b[38;5;241m.\u001b[39minbox\u001b[38;5;241m.\u001b[39mpop(\n\u001b[1;32m    862\u001b[0m     hydration_hooks\u001b[38;5;241m=\u001b[39m\u001b[38;5;28mself\u001b[39m\u001b[38;5;241m.\u001b[39mresponses[\u001b[38;5;241m0\u001b[39m]\u001b[38;5;241m.\u001b[39mhydration_hooks\n\u001b[1;32m    863\u001b[0m )\n\u001b[0;32m--> 864\u001b[0m res \u001b[38;5;241m=\u001b[39m \u001b[38;5;28;43mself\u001b[39;49m\u001b[38;5;241;43m.\u001b[39;49m\u001b[43m_process_message\u001b[49m\u001b[43m(\u001b[49m\u001b[43mtag\u001b[49m\u001b[43m,\u001b[49m\u001b[43m \u001b[49m\u001b[43mfields\u001b[49m\u001b[43m)\u001b[49m\n\u001b[1;32m    865\u001b[0m \u001b[38;5;28mself\u001b[39m\u001b[38;5;241m.\u001b[39midle_since \u001b[38;5;241m=\u001b[39m monotonic()\n\u001b[1;32m    866\u001b[0m \u001b[38;5;28;01mreturn\u001b[39;00m res\n",
      "File \u001b[0;32m/opt/homebrew/lib/python3.10/site-packages/neo4j/_sync/io/_bolt5.py:500\u001b[0m, in \u001b[0;36mBolt5x0._process_message\u001b[0;34m(self, tag, fields)\u001b[0m\n\u001b[1;32m    498\u001b[0m \u001b[38;5;28mself\u001b[39m\u001b[38;5;241m.\u001b[39m_server_state_manager\u001b[38;5;241m.\u001b[39mstate \u001b[38;5;241m=\u001b[39m \u001b[38;5;28mself\u001b[39m\u001b[38;5;241m.\u001b[39mbolt_states\u001b[38;5;241m.\u001b[39mFAILED\n\u001b[1;32m    499\u001b[0m \u001b[38;5;28;01mtry\u001b[39;00m:\n\u001b[0;32m--> 500\u001b[0m     \u001b[43mresponse\u001b[49m\u001b[38;5;241;43m.\u001b[39;49m\u001b[43mon_failure\u001b[49m\u001b[43m(\u001b[49m\u001b[43msummary_metadata\u001b[49m\u001b[43m \u001b[49m\u001b[38;5;129;43;01mor\u001b[39;49;00m\u001b[43m \u001b[49m\u001b[43m{\u001b[49m\u001b[43m}\u001b[49m\u001b[43m)\u001b[49m\n\u001b[1;32m    501\u001b[0m \u001b[38;5;28;01mexcept\u001b[39;00m (ServiceUnavailable, DatabaseUnavailable):\n\u001b[1;32m    502\u001b[0m     \u001b[38;5;28;01mif\u001b[39;00m \u001b[38;5;28mself\u001b[39m\u001b[38;5;241m.\u001b[39mpool:\n",
      "File \u001b[0;32m/opt/homebrew/lib/python3.10/site-packages/neo4j/_sync/io/_common.py:295\u001b[0m, in \u001b[0;36mLogonResponse.on_failure\u001b[0;34m(self, metadata)\u001b[0m\n\u001b[1;32m    293\u001b[0m handler \u001b[38;5;241m=\u001b[39m \u001b[38;5;28mself\u001b[39m\u001b[38;5;241m.\u001b[39mhandlers\u001b[38;5;241m.\u001b[39mget(\u001b[38;5;124m\"\u001b[39m\u001b[38;5;124mon_summary\u001b[39m\u001b[38;5;124m\"\u001b[39m)\n\u001b[1;32m    294\u001b[0m Util\u001b[38;5;241m.\u001b[39mcallback(handler)\n\u001b[0;32m--> 295\u001b[0m \u001b[38;5;28;01mraise\u001b[39;00m \u001b[38;5;28mself\u001b[39m\u001b[38;5;241m.\u001b[39m_hydrate_error(metadata)\n",
      "\u001b[0;31mAuthError\u001b[0m: {code: Neo.ClientError.Security.Unauthorized} {message: The client is unauthorized due to authentication failure.}"
     ]
    }
   ],
   "source": [
    "from neo4j import GraphDatabase, basic_auth\n",
    "from sqlalchemy.inspection import inspect\n",
    "from datetime import date\n",
    "from decimal import Decimal\n",
    "\n",
    "driver = GraphDatabase.driver(\n",
    "  \"bolt://localhost:7687\",\n",
    "  auth=basic_auth(\"neo4j\", \"dreamcometrue\")\n",
    ")\n",
    "\n",
    "# DB 연결 정보\n",
    "_db = next(get_db())\n",
    "\n",
    "database_name = os.getenv(\"NEO4J_DATABASE\")\n",
    "\n",
    "# Cypher 쿼리 생성 함수\n",
    "def generate_create_query(label: str, data: dict) -> (str, dict):\n",
    "    keys = list(data.keys())\n",
    "    result = []\n",
    "    for k in keys:\n",
    "        if k == \"ENAME\":\n",
    "            result.append(f\"name: ${k}\")\n",
    "        else:\n",
    "            result.append(f\"{k}: ${k}\")\n",
    "            \n",
    "    fields = \", \".join(result)\n",
    "    query = f\"CREATE (p:{label} {{ {fields} }})\"\n",
    "    return query, data\n",
    "\n",
    "\n",
    "# Neo4j Insertion Function\n",
    "def insert_person_to_neo4j(driver, person_data: dict):\n",
    "    query, params = generate_create_query(\"Employee\", person_data)\n",
    "    with driver.session(database=database_name) as session:\n",
    "        session.run(query, **params)\n",
    "\n",
    "# Neo4j Model To Dict\n",
    "def model_to_dict(obj):\n",
    "    result = {}\n",
    "    for c in inspect(obj).mapper.column_attrs:\n",
    "        value = getattr(obj, c.key)\n",
    "        # Decimal은 float 또는 str로 변환\n",
    "        if isinstance(value, Decimal):\n",
    "            value = float(value)  # 또는 str(value)\n",
    "        result[c.key] = value\n",
    "    return result\n",
    "\n",
    "# Driver Connect and Execution\n",
    "if __name__ == \"__main__\":\n",
    "    \n",
    "    hr_members = _db.query(PasWHrPsn001).all()\n",
    "    for employee_member in hr_members:\n",
    "        insert_person_to_neo4j(driver,  model_to_dict(employee_member))\n",
    "    driver.close()"
   ]
  }
 ],
 "metadata": {
  "kernelspec": {
   "display_name": "Python 3",
   "language": "python",
   "name": "python3"
  },
  "language_info": {
   "codemirror_mode": {
    "name": "ipython",
    "version": 3
   },
   "file_extension": ".py",
   "mimetype": "text/x-python",
   "name": "python",
   "nbconvert_exporter": "python",
   "pygments_lexer": "ipython3",
   "version": "3.10.18"
  }
 },
 "nbformat": 4,
 "nbformat_minor": 5
}
