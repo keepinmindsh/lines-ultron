{
 "cells": [
  {
   "cell_type": "markdown",
   "id": "eeee6891",
   "metadata": {},
   "source": [
    "# GPT 프롬프트 작성 팁 \n",
    "\n",
    "- 마크다운 포맷을 활용하자\n",
    "  - 긴 프롬프트를 입력하는 경우 마크 다운 포맷은 AI의 문맥 파악을 수월하게 해줄 수 있다."
   ]
  },
  {
   "cell_type": "markdown",
   "id": "5d7b7506",
   "metadata": {},
   "source": [
    "## Markdown 포맷 활용 \n",
    "\n",
    "``` \n",
    "# 큰 제목\n",
    "\n",
    "## 중간 제목\n",
    "\n",
    "### 작은 제목\n",
    "\n",
    "=== 구분선\n",
    "\n",
    "1. 첫번째 아이템\n",
    "2. 두번째 아이템\n",
    "\n",
    "### 작은 제목\n",
    "\n",
    "=== 구분선\n",
    "\n",
    "- 항목 A\n",
    "- 항목 B \n",
    "- 항목 C \n",
    "\n",
    "**중요 인식** \n",
    "```\n",
    "\n",
    "> 볼드체만 변경 등도 활용 가능 "
   ]
  }
 ],
 "metadata": {
  "language_info": {
   "name": "python"
  }
 },
 "nbformat": 4,
 "nbformat_minor": 5
}
