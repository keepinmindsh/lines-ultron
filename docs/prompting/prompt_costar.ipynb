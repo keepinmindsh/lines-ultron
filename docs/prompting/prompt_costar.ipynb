{
 "cells": [
  {
   "cell_type": "markdown",
   "id": "bd760afb",
   "metadata": {},
   "source": [
    "# CO-START Framework\n",
    "\n",
    "- Context \n",
    "- Objective \n",
    "- Style \n",
    "- Tone\n",
    "- Audience\n",
    "- Response"
   ]
  },
  {
   "cell_type": "markdown",
   "id": "7b3dca7b",
   "metadata": {},
   "source": [
    "# 맥락\n",
    "\n",
    "- 질문이나 요청이 어떤 상황인지 설명"
   ]
  },
  {
   "cell_type": "markdown",
   "id": "e3bd35b2",
   "metadata": {},
   "source": [
    "# 목적\n",
    "\n",
    "- 원하는 결과나 목표 명시 "
   ]
  },
  {
   "cell_type": "markdown",
   "id": "bef5a9b2",
   "metadata": {},
   "source": [
    "# 스타일\n",
    "\n",
    "- 답변이 어떤 형식으로 나오길 원하는지"
   ]
  },
  {
   "cell_type": "markdown",
   "id": "43c84ba2",
   "metadata": {},
   "source": [
    "# 어조\n",
    "\n",
    "- 감성/분위기 설정"
   ]
  },
  {
   "cell_type": "markdown",
   "id": "afb7342b",
   "metadata": {},
   "source": [
    "# 독자\n",
    "\n",
    "- 누가 이글을 읽는지에 대해서 "
   ]
  },
  {
   "cell_type": "markdown",
   "id": "231d432e",
   "metadata": {},
   "source": [
    "# 응답형식\n",
    "\n",
    "- 실제 출력물"
   ]
  },
  {
   "cell_type": "code",
   "execution_count": null,
   "id": "acccfad7",
   "metadata": {
    "vscode": {
     "languageId": "plaintext"
    }
   },
   "outputs": [],
   "source": [
    "\n",
    "QUESTION_CONTEXT_PROMPT = \"\"\"\n",
    "# Context \n",
    "\n",
    "# Objective  \n",
    "\n",
    "# Style\n",
    "\n",
    "# Audience\n",
    "\n",
    "# Tone\n",
    "\n",
    "# Response\n",
    "\n",
    "\"\"\""
   ]
  },
  {
   "cell_type": "markdown",
   "id": "3d366fa1",
   "metadata": {},
   "source": [
    "# References\n",
    "\n",
    "> https://towardsdatascience.com/how-i-won-singapores-gpt-4-prompt-engineering-competition-34c195a93d41/?ref=app.dalpha.so"
   ]
  }
 ],
 "metadata": {
  "language_info": {
   "name": "python"
  }
 },
 "nbformat": 4,
 "nbformat_minor": 5
}
