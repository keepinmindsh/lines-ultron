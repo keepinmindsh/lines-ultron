{
 "cells": [
  {
   "cell_type": "markdown",
   "id": "19d09036",
   "metadata": {},
   "source": [
    "# 페르소나 정의\n",
    "\n",
    "- Custom Instruction 정의 \n",
    "  - 어떻게 불러드리면 좋을까요? \n",
    "  - 어떤 일을 하고 계신가요? \n",
    "  - ChatGPT가 어떤 특성을 지녔으면 하나요? "
   ]
  }
 ],
 "metadata": {
  "language_info": {
   "name": "python"
  }
 },
 "nbformat": 4,
 "nbformat_minor": 5
}
