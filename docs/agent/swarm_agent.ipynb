{
 "cells": [
  {
   "cell_type": "code",
   "execution_count": 1,
   "metadata": {},
   "outputs": [],
   "source": [
    "%%capture\n",
    "# update or install the necessary libraries\n",
    "%pip install git+https://github.com/openai/swarm.git\n"
   ]
  },
  {
   "cell_type": "code",
   "execution_count": 3,
   "metadata": {},
   "outputs": [
    {
     "name": "stdout",
     "output_type": "stream",
     "text": [
      "Transferring you now,  \n",
      "Agent B will soon respond;  \n",
      "Please hold for the change.\n"
     ]
    }
   ],
   "source": [
    "from swarm import Swarm, Agent\n",
    "from dotenv import load_dotenv\n",
    "\n",
    "load_dotenv()\n",
    "\n",
    "client = Swarm()\n",
    "\n",
    "def transfer_to_agent_b():\n",
    "    return agent_b\n",
    "\n",
    "\n",
    "agent_a = Agent(\n",
    "    name=\"Agent A\",\n",
    "    instructions=\"You are a helpful agent.\",\n",
    "    functions=[transfer_to_agent_b],\n",
    ")\n",
    "\n",
    "agent_b = Agent(\n",
    "    name=\"Agent B\",\n",
    "    instructions=\"Only speak in Haikus.\",\n",
    ")\n",
    "\n",
    "response = client.run(\n",
    "    agent=agent_a,\n",
    "    messages=[{\"role\": \"user\", \"content\": \"I want to talk to agent B.\"}],\n",
    ")\n",
    "\n",
    "print(response.messages[-1][\"content\"])"
   ]
  },
  {
   "cell_type": "markdown",
   "metadata": {},
   "source": [
    "# OPENAI Swarm \n",
    "\n",
    "https://github.com/openai/swarm"
   ]
  }
 ],
 "metadata": {
  "kernelspec": {
   "display_name": "Python 3",
   "language": "python",
   "name": "python3"
  },
  "language_info": {
   "codemirror_mode": {
    "name": "ipython",
    "version": 3
   },
   "file_extension": ".py",
   "mimetype": "text/x-python",
   "name": "python",
   "nbconvert_exporter": "python",
   "pygments_lexer": "ipython3",
   "version": "3.10.15"
  }
 },
 "nbformat": 4,
 "nbformat_minor": 2
}
