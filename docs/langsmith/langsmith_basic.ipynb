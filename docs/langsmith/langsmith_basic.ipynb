{
 "cells": [
  {
   "cell_type": "markdown",
   "id": "84b93592c632b71a",
   "metadata": {},
   "source": [
    "# LangSmith 추적 설정\n",
    "\n",
    "- https://smith.langchain.com/\n",
    "\n",
    "위의 사이트를 통해서 회원 가입 하기\n"
   ]
  },
  {
   "cell_type": "code",
   "id": "346ea295e7a7fbb8",
   "metadata": {
    "ExecuteTime": {
     "end_time": "2025-04-07T12:22:28.404242Z",
     "start_time": "2025-04-07T12:22:26.201381Z"
    }
   },
   "source": [
    "%%capture\n",
    "# update or install the necessary libraries\n",
    "%pip install --upgrade langchain-openai\n",
    "%pip install --upgrade langchain\n",
    "%pip install --upgrade langchain_community\n",
    "%pip install --upgrade python-dotenv"
   ],
   "outputs": [],
   "execution_count": 14
  },
  {
   "cell_type": "code",
   "id": "7b8bf0a29af60911",
   "metadata": {
    "ExecuteTime": {
     "end_time": "2025-04-10T06:01:53.808485Z",
     "start_time": "2025-04-10T06:01:53.801253Z"
    }
   },
   "source": [
    "from dotenv import load_dotenv\n",
    "\n",
    "load_dotenv()"
   ],
   "outputs": [
    {
     "data": {
      "text/plain": [
       "True"
      ]
     },
     "execution_count": 1,
     "metadata": {},
     "output_type": "execute_result"
    }
   ],
   "execution_count": 1
  },
  {
   "cell_type": "code",
   "id": "3f5ea749a69d9c17",
   "metadata": {
    "ExecuteTime": {
     "end_time": "2025-04-10T06:01:55.792040Z",
     "start_time": "2025-04-10T06:01:53.938008Z"
    }
   },
   "source": [
    "from langchain_openai import ChatOpenAI\n",
    "\n",
    "llm = ChatOpenAI()\n",
    "llm.invoke(\"Hello, world!\")"
   ],
   "outputs": [
    {
     "data": {
      "text/plain": [
       "AIMessage(content='Hello! How can I assist you today?', additional_kwargs={'refusal': None}, response_metadata={'token_usage': {'completion_tokens': 10, 'prompt_tokens': 11, 'total_tokens': 21, 'completion_tokens_details': {'accepted_prediction_tokens': 0, 'audio_tokens': 0, 'reasoning_tokens': 0, 'rejected_prediction_tokens': 0}, 'prompt_tokens_details': {'audio_tokens': 0, 'cached_tokens': 0}}, 'model_name': 'gpt-3.5-turbo-0125', 'system_fingerprint': None, 'id': 'chatcmpl-BKfH1IpnqoCyGRbo7K5DcbAH14NnF', 'finish_reason': 'stop', 'logprobs': None}, id='run-4915b018-3b13-4b41-8622-ce6c3512d7e0-0', usage_metadata={'input_tokens': 11, 'output_tokens': 10, 'total_tokens': 21, 'input_token_details': {'audio': 0, 'cache_read': 0}, 'output_token_details': {'audio': 0, 'reasoning': 0}})"
      ]
     },
     "execution_count": 2,
     "metadata": {},
     "output_type": "execute_result"
    }
   ],
   "execution_count": 2
  }
 ],
 "metadata": {
  "kernelspec": {
   "display_name": "Python 3 (ipykernel)",
   "language": "python",
   "name": "python3"
  }
 },
 "nbformat": 5,
 "nbformat_minor": 9
}
