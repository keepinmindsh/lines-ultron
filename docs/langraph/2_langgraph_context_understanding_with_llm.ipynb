{
 "cells": [
  {
   "cell_type": "markdown",
   "id": "6036dbd5",
   "metadata": {},
   "source": [
    "# Langgraph를 이용한 맥락 유지 대화 프로세스 구현 ( 파라미터 호출 방식 )"
   ]
  },
  {
   "cell_type": "markdown",
   "id": "6581b00b",
   "metadata": {},
   "source": [
    "#### 기본 설치"
   ]
  },
  {
   "cell_type": "code",
   "execution_count": 1,
   "id": "1b7770a6",
   "metadata": {},
   "outputs": [],
   "source": [
    "%%capture\n",
    "\n",
    "# update or install the necessary libraries\n",
    "\n",
    "%pip install langgraph\n",
    "%pip install --upgrade \\\n",
    "    langchain==0.1.14 \\\n",
    "    langchain-core==0.1.31 \\\n",
    "    langchain-openai==0.1.3\n",
    "%pip install --upgrade python-dotenv"
   ]
  },
  {
   "cell_type": "markdown",
   "id": "a4283254",
   "metadata": {},
   "source": [
    "#### 기본 환경 설정 "
   ]
  },
  {
   "cell_type": "code",
   "execution_count": null,
   "id": "6382c66d",
   "metadata": {},
   "outputs": [],
   "source": [
    "from dotenv import load_dotenv\n",
    "\n",
    "load_dotenv()"
   ]
  },
  {
   "cell_type": "markdown",
   "id": "49cec34a",
   "metadata": {},
   "source": [
    "##### LLM 정의"
   ]
  },
  {
   "cell_type": "code",
   "execution_count": null,
   "id": "aed60d57",
   "metadata": {},
   "outputs": [],
   "source": [
    "from langchain_openai import ChatOpenAI\n",
    "\n",
    "llm = ChatOpenAI()"
   ]
  },
  {
   "cell_type": "markdown",
   "id": "cf97083f",
   "metadata": {},
   "source": [
    "##### 상태정의 "
   ]
  },
  {
   "cell_type": "code",
   "execution_count": null,
   "id": "dc47412d",
   "metadata": {},
   "outputs": [],
   "source": [
    "from typing import Annotated, List, TypedDict\n",
    "from langchain_core.messages import BaseMessage\n",
    "from langgraph.graph.message import add_messages  \n",
    "from typing_extensions import Annotated, TypedDict, List\n",
    "\n",
    "\n",
    "class QuestionState(TypedDict):\n",
    "    # LangGraph 가 자동으로 append 해 주는 대화 메시지\n",
    "    messages: Annotated[List[BaseMessage], add_messages]\n",
    "    # 사용자가 따로 관리하고 싶은 이력\n",
    "    histories: List[str]"
   ]
  }
 ],
 "metadata": {
  "kernelspec": {
   "display_name": "base",
   "language": "python",
   "name": "python3"
  },
  "language_info": {
   "codemirror_mode": {
    "name": "ipython",
    "version": 3
   },
   "file_extension": ".py",
   "mimetype": "text/x-python",
   "name": "python",
   "nbconvert_exporter": "python",
   "pygments_lexer": "ipython3",
   "version": "3.12.7"
  }
 },
 "nbformat": 4,
 "nbformat_minor": 5
}
