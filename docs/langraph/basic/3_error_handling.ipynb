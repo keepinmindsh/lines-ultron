{
 "cells": [
  {
   "cell_type": "code",
   "execution_count": 1,
   "id": "5e98ed99",
   "metadata": {},
   "outputs": [],
   "source": [
    "%%capture\n",
    "\n",
    "# update or install the necessary libraries\n",
    "\n",
    "%pip install langgraph\n",
    "%pip install --upgrade \\\n",
    "    langchain==0.3.24 \\\n",
    "    langchain-openai==0.3.14\n",
    "%pip install -U langsmith\n",
    "%pip install --upgrade python-dotenv"
   ]
  },
  {
   "cell_type": "code",
   "execution_count": 2,
   "id": "75d59a7a",
   "metadata": {},
   "outputs": [],
   "source": [
    "from langgraph.errors import GraphRecursionError\n",
    "\n",
    "try:\n",
    "  pass \n",
    "except GraphRecursionError as recursion_error:\n",
    "  print(f\"GraphRecursionError: {recursion_error}\")"
   ]
  }
 ],
 "metadata": {
  "kernelspec": {
   "display_name": "base",
   "language": "python",
   "name": "python3"
  },
  "language_info": {
   "codemirror_mode": {
    "name": "ipython",
    "version": 3
   },
   "file_extension": ".py",
   "mimetype": "text/x-python",
   "name": "python",
   "nbconvert_exporter": "python",
   "pygments_lexer": "ipython3",
   "version": "3.12.7"
  }
 },
 "nbformat": 4,
 "nbformat_minor": 5
}
