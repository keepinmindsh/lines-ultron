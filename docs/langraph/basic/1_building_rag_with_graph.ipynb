{
 "cells": [
  {
   "cell_type": "markdown",
   "id": "4ab83ddf",
   "metadata": {},
   "source": [
    "# Naive RAG"
   ]
  },
  {
   "cell_type": "markdown",
   "id": "e97798d8",
   "metadata": {},
   "source": [
    "### 환경설정"
   ]
  },
  {
   "cell_type": "code",
   "execution_count": 15,
   "id": "bc701649",
   "metadata": {},
   "outputs": [],
   "source": [
    "%%capture\n",
    "\n",
    "# update or install the necessary libraries\n",
    "\n",
    "%pip install langgraph\n",
    "%pip install --upgrade \\\n",
    "    langchain==0.3.24 \\\n",
    "    langchain-openai==0.3.14\n",
    "%pip install -U langsmith\n",
    "%pip install --upgrade python-dotenv"
   ]
  },
  {
   "cell_type": "code",
   "execution_count": 13,
   "id": "b7e70668",
   "metadata": {},
   "outputs": [
    {
     "data": {
      "text/plain": [
       "True"
      ]
     },
     "execution_count": 13,
     "metadata": {},
     "output_type": "execute_result"
    }
   ],
   "source": [
    "from dotenv import load_dotenv\n",
    "\n",
    "load_dotenv()"
   ]
  },
  {
   "cell_type": "markdown",
   "id": "fd8660e0",
   "metadata": {},
   "source": [
    "### LangSmith 설정"
   ]
  },
  {
   "cell_type": "code",
   "execution_count": 14,
   "id": "539d47a3",
   "metadata": {},
   "outputs": [
    {
     "name": "stdout",
     "output_type": "stream",
     "text": [
      "Hello! How can I assist you today?\n"
     ]
    }
   ],
   "source": [
    "from langsmith import traceable\n",
    "from langchain.schema import HumanMessage\n",
    "from langchain_openai import ChatOpenAI\n",
    "\n",
    "llm = ChatOpenAI(model=\"gpt-3.5-turbo\")\n",
    "\n",
    "@traceable  # LangSmith 추적용 데코레이터\n",
    "def pipeline(user_input: str):\n",
    "    result = llm.invoke([HumanMessage(content=user_input)])\n",
    "    return result.content  # or result if full object needed\n",
    "\n",
    "print(pipeline(\"Hello, world!\"))"
   ]
  },
  {
   "cell_type": "markdown",
   "id": "12a2c63f",
   "metadata": {},
   "source": [
    "### 기본 PDF 기반 Retrieval Chain 생성 "
   ]
  },
  {
   "cell_type": "code",
   "execution_count": null,
   "id": "e2950a05",
   "metadata": {},
   "outputs": [],
   "source": [
    "from langchain_community.document_loaders import PyPDFLoader\n",
    "from langchain_community.vectorstores import ElasticsearchStore\n",
    "from typing import List\n",
    "from langchain_core.documents import Document\n",
    "from langchain_text_splitters import CharacterTextSplitter\n",
    "from langchain_openai import OpenAIEmbeddings\n",
    "import os \n",
    "\n",
    "\n",
    "class DataPipeline:\n",
    "  def __init__(self):\n",
    "    self.file_path = \"/Users/lines/sources/00_company/lines-rag-processor-python/load/use_case/medical_study_books_0_10.pdf\"\n",
    "    self.data_loader = PyPDFLoader(self.file_path)\n",
    "    self.elastic = ElasticsearchStore(\n",
    "        es_url=os.getenv(\"ES_URL\"),\n",
    "        es_user=os.getenv(\"ES_USER\"),\n",
    "        es_password=os.getenv(\"ES_PASSWORD\"),\n",
    "        index_name=os.getenv(\"INDEX_NAME\")\n",
    "    )\n",
    "    self.embeddings = OpenAIEmbeddings(model=\"text-embedding-3-large\", dimensions=1024)\n",
    "\n",
    "  def load(self) -> List[Document]:\n",
    "    pages = []\n",
    "    for page in self.data_loader.load():\n",
    "      pages.append(page)\n",
    "\n",
    "  \n",
    "  def splits(self, documents:List[Document]) -> List[Document]:\n",
    "    text_splitter = CharacterTextSplitter(\n",
    "        separator=\"\\n\\n\",\n",
    "        chunk_size=1000,\n",
    "        chunk_overlap=200,\n",
    "        length_function=len,\n",
    "        is_separator_regex=False,\n",
    "    )\n",
    "\n",
    "    docs = text_splitter.split_documents(documents)\n",
    "  \n",
    "    return docs\n",
    "  \n",
    "  def store(self, documents:List[Document]):\n",
    "    instance_from_documents = self.elastic.from_documents(\n",
    "        documents=documents,\n",
    "        embedding=self.embeddings,\n",
    "        index_name=os.getenv(\"INDEX_NAME\"),\n",
    "        es_url=os.getenv(\"ES_URL\"),\n",
    "    )\n",
    "\n",
    "    instance_from_documents.client.indices.refresh(index=os.getenv(\"INDEX_NAME\"))\n",
    "\n",
    "\n",
    "  def retrieve(self):\n",
    "    #todo 작성중\n",
    "    pass"
   ]
  }
 ],
 "metadata": {
  "kernelspec": {
   "display_name": "base",
   "language": "python",
   "name": "python3"
  },
  "language_info": {
   "codemirror_mode": {
    "name": "ipython",
    "version": 3
   },
   "file_extension": ".py",
   "mimetype": "text/x-python",
   "name": "python",
   "nbconvert_exporter": "python",
   "pygments_lexer": "ipython3",
   "version": "3.12.7"
  }
 },
 "nbformat": 4,
 "nbformat_minor": 5
}
