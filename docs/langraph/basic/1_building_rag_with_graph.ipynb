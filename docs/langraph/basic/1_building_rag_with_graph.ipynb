{
 "cells": [
  {
   "cell_type": "markdown",
   "id": "4ab83ddf",
   "metadata": {},
   "source": [
    "# Naive RAG to LangGraph"
   ]
  },
  {
   "cell_type": "markdown",
   "id": "e97798d8",
   "metadata": {},
   "source": [
    "### 환경설정"
   ]
  },
  {
   "cell_type": "code",
   "execution_count": 15,
   "id": "bc701649",
   "metadata": {},
   "outputs": [],
   "source": [
    "%%capture\n",
    "\n",
    "# update or install the necessary libraries\n",
    "\n",
    "%pip install langgraph\n",
    "%pip install --upgrade \\\n",
    "    langchain==0.3.24 \\\n",
    "    langchain-openai==0.3.14\n",
    "%pip install -U langsmith\n",
    "%pip install --upgrade python-dotenv"
   ]
  },
  {
   "cell_type": "code",
   "execution_count": 13,
   "id": "b7e70668",
   "metadata": {},
   "outputs": [
    {
     "data": {
      "text/plain": [
       "True"
      ]
     },
     "execution_count": 13,
     "metadata": {},
     "output_type": "execute_result"
    }
   ],
   "source": [
    "from dotenv import load_dotenv\n",
    "\n",
    "load_dotenv()"
   ]
  },
  {
   "cell_type": "markdown",
   "id": "fd8660e0",
   "metadata": {},
   "source": [
    "### LangSmith 설정"
   ]
  },
  {
   "cell_type": "code",
   "execution_count": 14,
   "id": "539d47a3",
   "metadata": {},
   "outputs": [
    {
     "name": "stdout",
     "output_type": "stream",
     "text": [
      "Hello! How can I assist you today?\n"
     ]
    }
   ],
   "source": [
    "from langsmith import traceable\n",
    "from langchain.schema import HumanMessage\n",
    "from langchain_openai import ChatOpenAI\n",
    "\n",
    "llm = ChatOpenAI(model=\"gpt-3.5-turbo\")\n",
    "\n",
    "@traceable  # LangSmith 추적용 데코레이터\n",
    "def pipeline(user_input: str):\n",
    "    result = llm.invoke([HumanMessage(content=user_input)])\n",
    "    return result.content  # or result if full object needed\n",
    "\n",
    "print(pipeline(\"Hello, world!\"))"
   ]
  },
  {
   "cell_type": "markdown",
   "id": "12a2c63f",
   "metadata": {},
   "source": [
    "### 기본 PDF 기반 Retrieval Chain 생성 "
   ]
  },
  {
   "cell_type": "code",
   "execution_count": null,
   "id": "e2950a05",
   "metadata": {},
   "outputs": [],
   "source": [
    "from langchain_community.document_loaders import PyPDFLoader\n",
    "from langchain_community.vectorstores import ElasticsearchStore\n",
    "from langchain_core.vectorstores import VectorStoreRetriever\n",
    "from typing import List\n",
    "from langchain_core.documents import Document\n",
    "from langchain_text_splitters import CharacterTextSplitter\n",
    "from langchain_openai import OpenAIEmbeddings\n",
    "import os \n",
    "\n",
    "\n",
    "class DataPipeline:\n",
    "  def __init__(self):\n",
    "    self.file_path = \"/Users/lines/sources/00_company/lines-rag-processor-python/load/use_case/medical_study_books_0_10.pdf\"\n",
    "    self.data_loader = PyPDFLoader(self.file_path)\n",
    "    self.embeddings = OpenAIEmbeddings(model=\"text-embedding-3-large\", dimensions=1024)\n",
    "    self.elastic_store = ElasticsearchStore(\n",
    "        embedding=self.embeddings,\n",
    "        es_url=os.getenv(\"ES_URL\"),\n",
    "        es_user=os.getenv(\"ES_USER\"),\n",
    "        es_password=os.getenv(\"ES_PASSWORD\"),\n",
    "        index_name=os.getenv(\"INDEX_NAME\")\n",
    "    )\n",
    "    \n",
    "\n",
    "  def load(self) -> List[Document]:\n",
    "    pages = []\n",
    "    for page in self.data_loader.load():\n",
    "      pages.append(page)\n",
    "\n",
    "  \n",
    "  def splits(self, documents:List[Document]) -> List[Document]:\n",
    "    text_splitter = CharacterTextSplitter(\n",
    "        separator=\"\\n\\n\",\n",
    "        chunk_size=1000,\n",
    "        chunk_overlap=200,\n",
    "        length_function=len,\n",
    "        is_separator_regex=False,\n",
    "    )\n",
    "\n",
    "    docs = text_splitter.split_documents(documents)\n",
    "  \n",
    "    return docs\n",
    "  \n",
    "  def store(self, documents:List[Document]):\n",
    "    instance_from_documents = self.elastic_store.from_documents(\n",
    "        documents=documents,\n",
    "        embedding=self.embeddings,\n",
    "        index_name=os.getenv(\"INDEX_NAME\"),\n",
    "        es_url=os.getenv(\"ES_URL\"),\n",
    "    )\n",
    "\n",
    "    instance_from_documents.client.indices.refresh(index=os.getenv(\"INDEX_NAME\"))\n",
    "\n",
    "\n",
    "  def retriever(self) -> VectorStoreRetriever:\n",
    "        ## Setup the Retriever using an In-memory store\n",
    "    ## , which can retrieve documents based on a query\n",
    "    retriever = self.elastic_store.as_retriever()\n",
    "\n",
    "    return retriever\n"
   ]
  },
  {
   "cell_type": "markdown",
   "id": "848c3aa0",
   "metadata": {},
   "source": [
    "### Langgraph로 구현 "
   ]
  },
  {
   "cell_type": "markdown",
   "id": "e21d9bed",
   "metadata": {},
   "source": [
    "#### State 정의 \n",
    "\n",
    "- State : Graph의 노드와 노드 간 공유하는 상태를 정의합니다 \n",
    "- 일반적으로 TypedDict 형식을 사용합니다. "
   ]
  },
  {
   "cell_type": "code",
   "execution_count": 16,
   "id": "993388e1",
   "metadata": {},
   "outputs": [],
   "source": [
    "from typing import Annotated, TypedDict\n",
    "from langgraph.graph.message import add_messages\n",
    "\n",
    "class GraphState(TypedDict):\n",
    "  question: Annotated[str, \"Question\"]\n",
    "  context: Annotated[str, \"Context\"]\n",
    "  answer: Annotated[str, \"Answer\"]\n",
    "  messages: Annotated[list, add_messages]"
   ]
  },
  {
   "cell_type": "markdown",
   "id": "a8e435d2",
   "metadata": {},
   "source": [
    "#### Node 정의 \n",
    "\n",
    "- Nodes: 각 단계를 처리하는 노드입니다. 보통은 Python 함수로 구현합니다. 입력곽 출력이 상태(State) 값입니다. \n",
    "- State를 입력으로 받아 정의된 로직을 수행한 후 업데이트된 State를 반환합니다. "
   ]
  },
  {
   "cell_type": "code",
   "execution_count": null,
   "id": "d0f3c761",
   "metadata": {},
   "outputs": [],
   "source": [
    "def retrieve_document(state: GraphState) -> GraphState:\n",
    "  latest_question = state[\"question\"]\n",
    "\n",
    "  # retreive from vector db for rag\n",
    "\n",
    "  # format docs\n",
    "\n",
    "  return { \"context\" : \"\" }\n",
    "\n",
    "def llm_answer(state: GraphState) -> GraphState:\n",
    "  latest_question = state[\"question\"]\n",
    "\n",
    "  context = state[\"context\"]\n",
    "\n",
    "  # history handling \n",
    "\n",
    "  # answer handling\n",
    "\n",
    "  return {\n",
    "    \"answer\" : \"my answer\", \n",
    "    \"messages\" : [(\"user\", latest_question), (\"assistant\", \"response\")]\n",
    "  }\n",
    "\n"
   ]
  },
  {
   "cell_type": "markdown",
   "id": "a0b9cab5",
   "metadata": {},
   "source": [
    "#### 그래프 생성 \n",
    "\n",
    "- Edges : 현재 State를 기반으로 다음에 실행할 Node를 결정하는 Python 함수 \n",
    "  - 일반 엣지\n",
    "  - 조건부 엣지"
   ]
  },
  {
   "cell_type": "code",
   "execution_count": 26,
   "id": "6ed0f87c",
   "metadata": {},
   "outputs": [
    {
     "data": {
      "image/png": "[encoded data removed]",
      "text/plain": [
       "<IPython.core.display.Image object>"
      ]
     },
     "metadata": {},
     "output_type": "display_data"
    }
   ],
   "source": [
    "from langgraph.graph import END, StateGraph\n",
    "from langgraph.checkpoint.memory import MemorySaver\n",
    "from IPython.display import Image, display\n",
    "\n",
    "graph = StateGraph(GraphState)\n",
    "graph.add_node(\"retrieve\", retrieve_document)\n",
    "graph.add_node(\"llm_answer\", llm_answer)\n",
    "\n",
    "graph.add_edge(\"retrieve\", \"llm_answer\")\n",
    "graph.add_edge(\"llm_answer\", END)\n",
    "\n",
    "graph.set_entry_point(\"retrieve\")\n",
    "\n",
    "memory = MemorySaver()\n",
    "\n",
    "app = graph.compile(checkpointer=memory)\n",
    "\n",
    "try:\n",
    "    display(Image(app.get_graph().draw_mermaid_png()))\n",
    "except Exception as e:\n",
    "    print(e)\n",
    "    pass"
   ]
  }
 ],
 "metadata": {
  "kernelspec": {
   "display_name": "base",
   "language": "python",
   "name": "python3"
  },
  "language_info": {
   "codemirror_mode": {
    "name": "ipython",
    "version": 3
   },
   "file_extension": ".py",
   "mimetype": "text/x-python",
   "name": "python",
   "nbconvert_exporter": "python",
   "pygments_lexer": "ipython3",
   "version": "3.12.7"
  }
 },
 "nbformat": 4,
 "nbformat_minor": 5
}
