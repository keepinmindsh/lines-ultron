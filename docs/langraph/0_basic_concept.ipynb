{
 "cells": [
  {
   "cell_type": "markdown",
   "id": "daf1a4f3",
   "metadata": {},
   "source": [
    "# 의존성 설치 "
   ]
  },
  {
   "cell_type": "code",
   "execution_count": 3,
   "id": "c197dadd",
   "metadata": {},
   "outputs": [],
   "source": [
    "%%capture\n",
    "\n",
    "# update or install the necessary libraries\n",
    "\n",
    "%pip install langgraph\n",
    "%pip install --upgrade \\\n",
    "    langchain==0.1.14 \\\n",
    "    langchain-core==0.1.31 \\\n",
    "    langchain-openai==0.1.3\n",
    "%pip install --upgrade python-dotenv"
   ]
  },
  {
   "cell_type": "markdown",
   "id": "1b4622fb",
   "metadata": {},
   "source": [
    "# Langgraph"
   ]
  },
  {
   "cell_type": "markdown",
   "id": "b4c72ab3",
   "metadata": {},
   "source": [
    "## Conventional RAG 문제점 \n",
    "\n",
    "- 전에 정의된 데이터 소싱(PDF, DB, Table) 자원 \n",
    "- 사전에 정의된 Fixed Size Chunk \n",
    "- 사전에 정의된 검색 방법 \n",
    "- 신뢰하기 어려운 LLM 혹은 Agent \n",
    "- 고정된 프롬프트 양식 \n",
    "- LLM의 답변 결과에 대한 문서와의 관련성/신뢰성\n",
    "\n",
    "### 문제라고 볼 수 있는 부분들 \n",
    "\n",
    "- Document Loader(데이터 로드) > Answer(답변) \n",
    "- RAG 파이프라인이 단방향 구조이기 때문\n",
    "\n",
    "- 모든 단계를 한 번에 다 잘해야 함 \n",
    "- 이전 단계로 되돌아가기 어려움 \n",
    "  - 이전 과정의 결과물을 수정하기 어려움 "
   ]
  },
  {
   "cell_type": "markdown",
   "id": "4f136bb6",
   "metadata": {},
   "source": [
    "# 개선해볼 수 있는 방향 \n",
    "\n",
    "- Langgraph를 이용해서 RAG 파이프라인을 보다 유연하게 설계 "
   ]
  },
  {
   "cell_type": "markdown",
   "id": "2046425f",
   "metadata": {},
   "source": [
    "# LangGraph 제안 \n",
    "\n",
    "- 평가자 & Query Transform 제안 \n",
    "\n",
    "\n",
    "```mermaid\n",
    "flowchart LR\n",
    "    Question[질문<br/>Question]\n",
    "    Retrieve[문서 검색<br/>Retrieve]\n",
    "    Evaluator((평가자<br/>Evaluator))\n",
    "    QueryRewrite[질문 재작성<br/>Query Rewrite]\n",
    "    LLM[답변 생성<br/>LLM]\n",
    "    Answer[최종답변<br/>Answer]\n",
    "\n",
    "    Question --> Retrieve\n",
    "    Retrieve --> Evaluator\n",
    "    Evaluator -- Check Fail --> QueryRewrite\n",
    "    QueryRewrite --> Question\n",
    "    Evaluator -- Pass --> LLM\n",
    "    LLM --> Answer\n",
    "```\n",
    "\n",
    "- 추가 검색기를 통하여 문맥(context) 보강 \n",
    "\n",
    "```mermaid \n",
    "flowchart LR\n",
    "    Question[질문<br/>Question]\n",
    "    Retrieve[문서 검색<br/>Retrieve]\n",
    "    LLM[답변 생성<br/>LLM]\n",
    "    Answer[최종답변<br/>Answer]\n",
    "    Evaluator((평가자<br/>Evaluator))\n",
    "    QueryRewrite[질문 재작성<br/>Query Rewrite]\n",
    "    WebSearch[웹 검색<br/>Web Search]\n",
    "\n",
    "    Question --> Retrieve\n",
    "    Retrieve --> LLM\n",
    "    LLM --> Evaluator\n",
    "    Evaluator -- Pass --> Answer\n",
    "    Evaluator -- Check Fail --> QueryRewrite\n",
    "    QueryRewrite --> Question\n",
    "    Evaluator -- Suggest --> WebSearch\n",
    "    WebSearch --> Retrieve\n",
    "    WebSearch -- Add Context --> Retrieve\n",
    "```\n",
    "\n",
    "- 문서-답변 간 관련성 여부를 판단하는 평가자2 를 추가하여 검증 \n",
    "\n",
    "```mermaid \n",
    "flowchart LR\n",
    "    Question[질문<br/>Question]\n",
    "    Retrieve[문서 검색<br/>Retrieve]\n",
    "    Eval1((평가자 1<br/>Evaluator))\n",
    "    WebSearch[웹 검색<br/>Web Search]\n",
    "    QueryRewrite[질문 재작성<br/>Query Rewrite]\n",
    "    LLM[답변 생성<br/>LLM]\n",
    "    Eval2((평가자 2<br/>Relevance))\n",
    "    Answer[최종답변<br/>Answer]\n",
    "\n",
    "    Question --> Retrieve\n",
    "    Retrieve --> Eval1\n",
    "    Eval1 -- Add Context --> WebSearch\n",
    "    WebSearch --> Retrieve\n",
    "    WebSearch --> QueryRewrite\n",
    "    QueryRewrite --> Question\n",
    "\n",
    "    Eval1 --> LLM\n",
    "    LLM --> Eval2\n",
    "    Eval2 -- pass --> Answer\n",
    "    Eval2 -- Check Fail --> WebSearch\n",
    "    Eval2 -- re-generate --> LLM\n",
    "```"
   ]
  },
  {
   "cell_type": "markdown",
   "id": "0da785de",
   "metadata": {},
   "source": [
    "## Langgraph의 중요 개념 \n",
    "\n",
    "- Node(노드), Edge(엣지), State(상태관리)를 통해 LLM을 활용한 워크플로우에 순환(Cycle) 연산 기능을 추가하여 손쉽게 흐름을 제어\n",
    "- RAG 파이프라인의 세부 단계별 흐름제어가 가능 \n",
    "- Conditional Edge: 조건부 (if, elif, else 와 같은..)흐름 제어 \n",
    "- Human-in-the-loop: 필요시 중간 개입하여 다음 단계를 결정 \n",
    "- Checkpointer: 과거 실행과정에 대한 \"수정\"&\"리플레이\" 기능 \n",
    "\n",
    "### 각 용어의 의미 \n",
    "\n",
    "- Node : 어떤 작업을 수행할지 정의 \n",
    "- Edge : 다음으로 실행할 동작 정의 \n",
    "- State : 현재의 상태 값을 저장 및 전달하는데 활용 \n",
    "- Conditional Edge : 조건에 따라 분기 처리 "
   ]
  },
  {
   "cell_type": "markdown",
   "id": "db31d9b3",
   "metadata": {},
   "source": [
    "## 상태 - State\n",
    "\n",
    "- TypedDict: 일반 파이썬 dict에 타입힌팅을 추가한 개념이지만, 쉽게 Ditionary로 생각해도 좋습니다. \n",
    "- 모든 값을 다 채우지 않아도 됩니다. \n",
    "- 새로운 노드에서 값을 덮어쓰기 방식으로 채웁니다. \n",
    "- Reducer(add_messages 혹은 operator.add): 자동으로 list에 메세지를 추가해주는 기능 \n",
    "\n",
    "노드와 노드 사이의 정보를 전달할 때 사용가능하며, 꼭 내용을 다 채워야할 필요는 없다. "
   ]
  },
  {
   "cell_type": "code",
   "execution_count": 5,
   "id": "7b4f7f18",
   "metadata": {},
   "outputs": [],
   "source": [
    "from typing import Annotated, TypedDict \n",
    "from langgraph.graph.message import add_messages\n",
    "\n",
    "class GraphState(TypedDict): \n",
    "  question: Annotated[list, add_messages]\n",
    "  context: Annotated[str, \"Context\"]\n",
    "  answer: Annotated[str, \"Answer\"]\n",
    "  messages: Annotated[list, add_messages]\n",
    "  relevance: Annotated[str, \"Relevance\"]"
   ]
  },
  {
   "cell_type": "markdown",
   "id": "133337c1",
   "metadata": {},
   "source": [
    "### Reducer\n",
    "\n",
    "- Reducer (add_messages 혹은 operator.add): 자동으로 list에 메시지를 추가한다. \n",
    "  - `left` (Messages) : 기본 메시지 리스트 \n",
    "  - `right` (Messages) : 병합할 메시지 리스트 또는 단일 메시지"
   ]
  },
  {
   "cell_type": "code",
   "execution_count": 7,
   "id": "cb791704",
   "metadata": {},
   "outputs": [
    {
     "name": "stdout",
     "output_type": "stream",
     "text": [
      "[HumanMessage(content='안녕하세요?', additional_kwargs={}, response_metadata={}, id='1'), AIMessage(content='반갑습니다~', additional_kwargs={}, response_metadata={}, id='2')]\n"
     ]
    }
   ],
   "source": [
    "from langchain_core.messages import AIMessage, HumanMessage\n",
    "from langgraph.graph import add_messages\n",
    "\n",
    "msgs1 = [HumanMessage(content=\"안녕하세요?\", id=\"1\")]\n",
    "msgs2 = [AIMessage(content=\"반갑습니다~\", id=\"2\")]\n",
    "\n",
    "result1 = add_messages(msgs1, msgs2)\n",
    "print(result1)"
   ]
  },
  {
   "cell_type": "markdown",
   "id": "1fcfbffc",
   "metadata": {},
   "source": [
    "### 노드별 상태 값의 변화 \n",
    "\n",
    "- 각 노드에서 업데이트 하는 값은 기존 Key 값을 덮어쓰는 방식 \n",
    "- 노드에서 필요한 상태 값을 조회하여 동작에 활용할 수 있음"
   ]
  },
  {
   "cell_type": "markdown",
   "id": "7550609a",
   "metadata": {},
   "source": [
    "# References \n",
    "\n",
    "- [#Langrapg 개념 완전 정복 몰아보기(3시간)](https://www.youtube.com/watch?v=W_uwR_yx4-c)"
   ]
  }
 ],
 "metadata": {
  "kernelspec": {
   "display_name": "base",
   "language": "python",
   "name": "python3"
  },
  "language_info": {
   "codemirror_mode": {
    "name": "ipython",
    "version": 3
   },
   "file_extension": ".py",
   "mimetype": "text/x-python",
   "name": "python",
   "nbconvert_exporter": "python",
   "pygments_lexer": "ipython3",
   "version": "3.12.7"
  }
 },
 "nbformat": 4,
 "nbformat_minor": 5
}
