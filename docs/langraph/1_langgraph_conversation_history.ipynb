{
 "cells": [
  {
   "cell_type": "code",
   "execution_count": 238,
   "id": "53ed2e86",
   "metadata": {},
   "outputs": [],
   "source": [
    "%%capture\n",
    "\n",
    "# update or install the necessary libraries\n",
    "\n",
    "%pip install langgraph\n",
    "%pip install --upgrade \\\n",
    "    langchain==0.1.14 \\\n",
    "    langchain-core==0.1.31 \\\n",
    "    langchain-openai==0.1.3\n",
    "%pip install --upgrade python-dotenv"
   ]
  },
  {
   "cell_type": "markdown",
   "id": "be3b3356",
   "metadata": {},
   "source": [
    "#### 기본 환경 설정"
   ]
  },
  {
   "cell_type": "code",
   "execution_count": 239,
   "id": "b6fba95f",
   "metadata": {},
   "outputs": [
    {
     "data": {
      "text/plain": [
       "True"
      ]
     },
     "execution_count": 239,
     "metadata": {},
     "output_type": "execute_result"
    }
   ],
   "source": [
    "from dotenv import load_dotenv\n",
    "\n",
    "load_dotenv()"
   ]
  },
  {
   "cell_type": "markdown",
   "id": "74a764cf",
   "metadata": {},
   "source": [
    "##### LLM 정의"
   ]
  },
  {
   "cell_type": "code",
   "execution_count": 240,
   "id": "8129f810",
   "metadata": {},
   "outputs": [],
   "source": [
    "from langchain_openai import ChatOpenAI\n",
    "\n",
    "llm = ChatOpenAI()"
   ]
  },
  {
   "cell_type": "markdown",
   "id": "7131d77f",
   "metadata": {},
   "source": [
    "##### 상태정의 "
   ]
  },
  {
   "cell_type": "code",
   "execution_count": 241,
   "id": "be5e96ef",
   "metadata": {},
   "outputs": [],
   "source": [
    "from typing import Annotated, List, TypedDict\n",
    "from langchain_core.messages import BaseMessage\n",
    "from langgraph.graph.message import add_messages  \n",
    "from typing_extensions import Annotated, TypedDict, List\n",
    "\n",
    "# class QuestionState(TypedDict):\n",
    "#     histories: List[str]\n",
    "#     messages: str\n",
    "\n",
    "\n",
    "class QuestionState(TypedDict):\n",
    "    # LangGraph 가 자동으로 append 해 주는 대화 메시지\n",
    "    messages: Annotated[List[BaseMessage], add_messages]\n",
    "    # 사용자가 따로 관리하고 싶은 이력\n",
    "    histories: List[str]"
   ]
  },
  {
   "cell_type": "markdown",
   "id": "3bc76507",
   "metadata": {},
   "source": [
    "##### Agent / Tool Prompt 정의 "
   ]
  },
  {
   "cell_type": "code",
   "execution_count": 242,
   "id": "c0b975a1",
   "metadata": {},
   "outputs": [],
   "source": [
    "from langchain_core.tools import StructuredTool\n",
    "from pydantic import BaseModel, Field\n",
    "\n",
    "question_agent_prompt = \"\"\"\n",
    "your are a answer agent only can do an operation if you need other then call other agent. Use Korean Language.\n",
    "\"\"\"\n",
    "\n",
    "mesage_context_prompt = \"\"\"\n",
    "This tool is a wrapper for answering messages from your question with one parameter\n",
    "\n",
    "# VERY IMPORTANT\n",
    "Your input to this tool MUST messages, state, histories and str, QuestionState, List type. \n",
    "\"\"\"\n",
    "\n",
    "class MessageContext(BaseModel):\n",
    "    messages: str = Field(..., description=\"message\")"
   ]
  },
  {
   "cell_type": "markdown",
   "id": "d100e877",
   "metadata": {},
   "source": [
    "##### Agent 정의 "
   ]
  },
  {
   "cell_type": "code",
   "execution_count": null,
   "id": "af9f0e5e",
   "metadata": {},
   "outputs": [],
   "source": [
    "from langchain_core.messages import HumanMessage\n",
    "from langchain_core.prompts import ChatPromptTemplate, MessagesPlaceholder\n",
    "from langchain.agents import create_tool_calling_agent, AgentExecutor\n",
    "\n",
    "def answer_question_agent_dict(state, agent, name):\n",
    "    \"\"\" \n",
    "    Use conditional_edge to route with messages \n",
    "    \"\"\"\n",
    "    state[\"messages\"] = [\n",
    "        HumanMessage(content=f\"\"\"\n",
    "당신은 전문적인 AI 어시스턴트입니다.  \n",
    "- 아래 **대화 이력**에는 사용자가 과거에 보낸 모든 메시지와 당신의 답변이 시간순(오래된 → 최신)으로 들어 있습니다.  \n",
    "- 최신 맥락을 파악해 가장 최근 질문에 답하세요.  \n",
    "- 동일한 질문・요청이 반복되면, 과거 답변을 간략히 요약해 재사용하십시오.  \n",
    "- 답변이 모호해질 때는 추가 정보를 정중히 요청하세요.  \n",
    "- 코드·명령어·경로 등은 반드시 정확히 기재하고, 가능하면 공식 문서 출처를 덧붙이세요.  \n",
    "- 한국어를 기본으로 사용하되, 사용자가 다른 언어로 질문하면 해당 언어로 답변하세요.  \n",
    "- 200 단어(또는 1 000자) 이내로 간결하게 답하되, 단계별 설명·예제 코드·표를 적절히 활용하십시오.  \n",
    "- 개인정보(실명·연락처 등)를 노출하지 말고, 보안 모범 사례를 준수하세요.\n",
    "                     \n",
    "**사용자 질문**을 대해서 답해주세요.                   \n",
    "\n",
    "# 대화 이력:\n",
    "{[humanMessage.content for humanMessage in state[\"histories\"]]}\n",
    "\n",
    "# 사용자 질문:\n",
    "{[humanMessage.content for humanMessage in state[\"messages\"]]}\n",
    "        \"\"\")                \n",
    "    ]\n",
    "    print(f\"{name} - agent call - before: {state}\")\n",
    "\n",
    "    result = agent.invoke(state)\n",
    "    print(f\"{name} - agent call - after: {state}\")\n",
    "\n",
    "    # 기본적으로 출력되는 메시지\n",
    "    output_state = {\n",
    "        \"messages\": [HumanMessage(content=result[\"output\"], name=name)]\n",
    "    }\n",
    "    return output_state\n",
    "\n",
    "\n",
    "def answer_question_agent(llm, tools, system_message: str):\n",
    "    \"\"\"Create an app.\"\"\"\n",
    "    prompt = ChatPromptTemplate.from_messages(\n",
    "        [\n",
    "            (\n",
    "                \"system\",\n",
    "                \"You are a helpful AI assistant, collaborating with other assistants.\"\n",
    "                \" Use the provided tools to progress towards answering the question.\"\n",
    "                \" If you are unable to fully answer, that's OK, another assistant with different tools \"\n",
    "                \" will help where you left off. Execute what you can to make progress.\"\n",
    "                \" If you or any of the other assistants have the final answer or deliverable,\"\n",
    "                \" You have access to the following tools: {tool_names}.\\n{system_message}\",\n",
    "            ),\n",
    "            MessagesPlaceholder(variable_name=\"messages\"),\n",
    "            MessagesPlaceholder(variable_name=\"agent_scratchpad\"),\n",
    "        ]\n",
    "    )\n",
    "    prompt = prompt.partial(system_message=system_message)\n",
    "    prompt = prompt.partial(tool_names=\", \".join([tool.name for tool in tools]))\n",
    "    agent = create_tool_calling_agent(llm, tools, prompt)\n",
    "    executor = AgentExecutor(agent=agent, tools=tools)\n",
    "    return executor"
   ]
  },
  {
   "cell_type": "markdown",
   "id": "5b6a18d7",
   "metadata": {},
   "source": [
    "##### Graph Debug"
   ]
  },
  {
   "cell_type": "code",
   "execution_count": 244,
   "id": "d551cf73",
   "metadata": {},
   "outputs": [],
   "source": [
    "# 디버깅 예시\n",
    "def debug_state(state):\n",
    "    print(f\"Debuging 결과(State): {state}\")\n",
    "    # print(f\"변수 값들: {state.values}\")\n",
    "    return state"
   ]
  },
  {
   "cell_type": "markdown",
   "id": "604771ae",
   "metadata": {},
   "source": [
    "##### Graph Build "
   ]
  },
  {
   "cell_type": "code",
   "execution_count": 248,
   "id": "983f3300",
   "metadata": {},
   "outputs": [
    {
     "name": "stdout",
     "output_type": "stream",
     "text": [
      "answer_question - agent call - before: {'messages': [HumanMessage(content=\"\\n당신은 전문적인 AI 어시스턴트입니다.  \\n- 아래 **대화 이력**에는 사용자가 과거에 보낸 모든 메시지와 당신의 답변이 시간순(오래된 → 최신)으로 들어 있습니다.  \\n- 최신 맥락을 파악해 가장 최근 질문에 답하세요.  \\n- 동일한 질문・요청이 반복되면, 과거 답변을 간략히 요약해 재사용하십시오.  \\n- 답변이 모호해질 때는 추가 정보를 정중히 요청하세요.  \\n- 코드·명령어·경로 등은 반드시 정확히 기재하고, 가능하면 공식 문서 출처를 덧붙이세요.  \\n- 한국어를 기본으로 사용하되, 사용자가 다른 언어로 질문하면 해당 언어로 답변하세요.  \\n- 200 단어(또는 1 000자) 이내로 간결하게 답하되, 단계별 설명·예제 코드·표를 적절히 활용하십시오.  \\n- 개인정보(실명·연락처 등)를 노출하지 말고, 보안 모범 사례를 준수하세요.\\n                     \\n**사용자 질문**을 대해서 답해주세요.                   \\n\\n# 대화 이력:\\n['  \\\\n                    아래는 시대‧분야를 두루 아우르는 한국의 대표적 위인 100인을 간단히 나열한 목록입니다 (번호는 순위가 아니라 열거 순서입니다).\\\\n                   ', '\\\\n                   단군왕검, 고주몽, 박혁거세, 김수로왕, 근초고왕, 을지문덕, 연개소문, 계백, 김유신, 문무왕, 원효, 의상, 장보고, 설총, 강감찬, 서희, 최영, 최무선, 지눌, 이규보, 공민왕, 이성계, 정도전, 정몽주, 황희, 세종대왕, 장영실, 김종서, 한석봉, 이황(퇴계), 이이(율곡), 허준, 신사임당, 황진이, 김만덕, 유성룡, 권율, 이순신, 김시민, 곽재우, 김정호, 홍대용, 박지원(연암), 박제가, 정약용(다산), 김정희(추사), 김홍도(단원), 신윤복(혜원), 최치원, 허균, 김옥균, 박영효, 서재필(필립 제이슨), 이상설, 이회영, 안중근, 김구, 도산 안창호, 윤봉길, 이봉창, 유관순, 김좌진, 홍범도, 최재형, 신채호, 박은식, 한용운(만해), 윤동주, 이상화, 여운형, 조만식, 김규식, 최현배, 이승만, 김성수, 장면, 박정희, 김대중, 김영삼, 노무현, 문재인, 이병철, 구인회, 정주영, 이건희, 박태준, 유일한, 백남준, 김환기, 이중섭, 윤이상, 정명훈, 손기정, 차범근, 박지성, 손흥민, 김연아, 우장춘, 장지연, 안익태']\\n\\n# 사용자 질문:\\n['위의 사람중에서 무작위로 3명만 다시 정리해줘']\\n        \", additional_kwargs={}, response_metadata={})], 'histories': [HumanMessage(content='  \\n                    아래는 시대‧분야를 두루 아우르는 한국의 대표적 위인 100인을 간단히 나열한 목록입니다 (번호는 순위가 아니라 열거 순서입니다).\\n                   ', additional_kwargs={}, response_metadata={}), HumanMessage(content='\\n                   단군왕검, 고주몽, 박혁거세, 김수로왕, 근초고왕, 을지문덕, 연개소문, 계백, 김유신, 문무왕, 원효, 의상, 장보고, 설총, 강감찬, 서희, 최영, 최무선, 지눌, 이규보, 공민왕, 이성계, 정도전, 정몽주, 황희, 세종대왕, 장영실, 김종서, 한석봉, 이황(퇴계), 이이(율곡), 허준, 신사임당, 황진이, 김만덕, 유성룡, 권율, 이순신, 김시민, 곽재우, 김정호, 홍대용, 박지원(연암), 박제가, 정약용(다산), 김정희(추사), 김홍도(단원), 신윤복(혜원), 최치원, 허균, 김옥균, 박영효, 서재필(필립 제이슨), 이상설, 이회영, 안중근, 김구, 도산 안창호, 윤봉길, 이봉창, 유관순, 김좌진, 홍범도, 최재형, 신채호, 박은식, 한용운(만해), 윤동주, 이상화, 여운형, 조만식, 김규식, 최현배, 이승만, 김성수, 장면, 박정희, 김대중, 김영삼, 노무현, 문재인, 이병철, 구인회, 정주영, 이건희, 박태준, 유일한, 백남준, 김환기, 이중섭, 윤이상, 정명훈, 손기정, 차범근, 박지성, 손흥민, 김연아, 우장춘, 장지연, 안익태', additional_kwargs={}, response_metadata={})]}\n",
      "answer_question - agent call - result: {'messages': [HumanMessage(content=\"\\n당신은 전문적인 AI 어시스턴트입니다.  \\n- 아래 **대화 이력**에는 사용자가 과거에 보낸 모든 메시지와 당신의 답변이 시간순(오래된 → 최신)으로 들어 있습니다.  \\n- 최신 맥락을 파악해 가장 최근 질문에 답하세요.  \\n- 동일한 질문・요청이 반복되면, 과거 답변을 간략히 요약해 재사용하십시오.  \\n- 답변이 모호해질 때는 추가 정보를 정중히 요청하세요.  \\n- 코드·명령어·경로 등은 반드시 정확히 기재하고, 가능하면 공식 문서 출처를 덧붙이세요.  \\n- 한국어를 기본으로 사용하되, 사용자가 다른 언어로 질문하면 해당 언어로 답변하세요.  \\n- 200 단어(또는 1 000자) 이내로 간결하게 답하되, 단계별 설명·예제 코드·표를 적절히 활용하십시오.  \\n- 개인정보(실명·연락처 등)를 노출하지 말고, 보안 모범 사례를 준수하세요.\\n                     \\n**사용자 질문**을 대해서 답해주세요.                   \\n\\n# 대화 이력:\\n['  \\\\n                    아래는 시대‧분야를 두루 아우르는 한국의 대표적 위인 100인을 간단히 나열한 목록입니다 (번호는 순위가 아니라 열거 순서입니다).\\\\n                   ', '\\\\n                   단군왕검, 고주몽, 박혁거세, 김수로왕, 근초고왕, 을지문덕, 연개소문, 계백, 김유신, 문무왕, 원효, 의상, 장보고, 설총, 강감찬, 서희, 최영, 최무선, 지눌, 이규보, 공민왕, 이성계, 정도전, 정몽주, 황희, 세종대왕, 장영실, 김종서, 한석봉, 이황(퇴계), 이이(율곡), 허준, 신사임당, 황진이, 김만덕, 유성룡, 권율, 이순신, 김시민, 곽재우, 김정호, 홍대용, 박지원(연암), 박제가, 정약용(다산), 김정희(추사), 김홍도(단원), 신윤복(혜원), 최치원, 허균, 김옥균, 박영효, 서재필(필립 제이슨), 이상설, 이회영, 안중근, 김구, 도산 안창호, 윤봉길, 이봉창, 유관순, 김좌진, 홍범도, 최재형, 신채호, 박은식, 한용운(만해), 윤동주, 이상화, 여운형, 조만식, 김규식, 최현배, 이승만, 김성수, 장면, 박정희, 김대중, 김영삼, 노무현, 문재인, 이병철, 구인회, 정주영, 이건희, 박태준, 유일한, 백남준, 김환기, 이중섭, 윤이상, 정명훈, 손기정, 차범근, 박지성, 손흥민, 김연아, 우장춘, 장지연, 안익태']\\n\\n# 사용자 질문:\\n['위의 사람중에서 무작위로 3명만 다시 정리해줘']\\n        \", additional_kwargs={}, response_metadata={})], 'histories': [HumanMessage(content='  \\n                    아래는 시대‧분야를 두루 아우르는 한국의 대표적 위인 100인을 간단히 나열한 목록입니다 (번호는 순위가 아니라 열거 순서입니다).\\n                   ', additional_kwargs={}, response_metadata={}), HumanMessage(content='\\n                   단군왕검, 고주몽, 박혁거세, 김수로왕, 근초고왕, 을지문덕, 연개소문, 계백, 김유신, 문무왕, 원효, 의상, 장보고, 설총, 강감찬, 서희, 최영, 최무선, 지눌, 이규보, 공민왕, 이성계, 정도전, 정몽주, 황희, 세종대왕, 장영실, 김종서, 한석봉, 이황(퇴계), 이이(율곡), 허준, 신사임당, 황진이, 김만덕, 유성룡, 권율, 이순신, 김시민, 곽재우, 김정호, 홍대용, 박지원(연암), 박제가, 정약용(다산), 김정희(추사), 김홍도(단원), 신윤복(혜원), 최치원, 허균, 김옥균, 박영효, 서재필(필립 제이슨), 이상설, 이회영, 안중근, 김구, 도산 안창호, 윤봉길, 이봉창, 유관순, 김좌진, 홍범도, 최재형, 신채호, 박은식, 한용운(만해), 윤동주, 이상화, 여운형, 조만식, 김규식, 최현배, 이승만, 김성수, 장면, 박정희, 김대중, 김영삼, 노무현, 문재인, 이병철, 구인회, 정주영, 이건희, 박태준, 유일한, 백남준, 김환기, 이중섭, 윤이상, 정명훈, 손기정, 차범근, 박지성, 손흥민, 김연아, 우장춘, 장지연, 안익태', additional_kwargs={}, response_metadata={})]}\n",
      "Debuging 결과(State): {'messages': [HumanMessage(content='위의 사람중에서 무작위로 3명만 다시 정리해줘', additional_kwargs={}, response_metadata={}, id='47d1db39-4265-4e0f-a9e7-17af8c318519'), HumanMessage(content='사용자가 요청하신 내용을 바탕으로 위에서 나열된 대표적인 한국의 위인 중에서 무작위로 3명을 정리해드리겠습니다.  \\n\\n1. 백남준\\n2. 주몽\\n3. 손흥민  \\n\\n요청하신 3명을 다시 정리해드렸습니다. 추가 요청이 있으시면 언제든지 말씀해주세요.', additional_kwargs={}, response_metadata={}, name='answer_question', id='7e467adc-3483-4617-a294-66b631f9fe57')], 'histories': [HumanMessage(content='  \\n                    아래는 시대‧분야를 두루 아우르는 한국의 대표적 위인 100인을 간단히 나열한 목록입니다 (번호는 순위가 아니라 열거 순서입니다).\\n                   ', additional_kwargs={}, response_metadata={}), HumanMessage(content='\\n                   단군왕검, 고주몽, 박혁거세, 김수로왕, 근초고왕, 을지문덕, 연개소문, 계백, 김유신, 문무왕, 원효, 의상, 장보고, 설총, 강감찬, 서희, 최영, 최무선, 지눌, 이규보, 공민왕, 이성계, 정도전, 정몽주, 황희, 세종대왕, 장영실, 김종서, 한석봉, 이황(퇴계), 이이(율곡), 허준, 신사임당, 황진이, 김만덕, 유성룡, 권율, 이순신, 김시민, 곽재우, 김정호, 홍대용, 박지원(연암), 박제가, 정약용(다산), 김정희(추사), 김홍도(단원), 신윤복(혜원), 최치원, 허균, 김옥균, 박영효, 서재필(필립 제이슨), 이상설, 이회영, 안중근, 김구, 도산 안창호, 윤봉길, 이봉창, 유관순, 김좌진, 홍범도, 최재형, 신채호, 박은식, 한용운(만해), 윤동주, 이상화, 여운형, 조만식, 김규식, 최현배, 이승만, 김성수, 장면, 박정희, 김대중, 김영삼, 노무현, 문재인, 이병철, 구인회, 정주영, 이건희, 박태준, 유일한, 백남준, 김환기, 이중섭, 윤이상, 정명훈, 손기정, 차범근, 박지성, 손흥민, 김연아, 우장춘, 장지연, 안익태', additional_kwargs={}, response_metadata={})]}\n",
      "workflow_app.invoke 결과 : content='사용자가 요청하신 내용을 바탕으로 위에서 나열된 대표적인 한국의 위인 중에서 무작위로 3명을 정리해드리겠습니다.  \\n\\n1. 백남준\\n2. 주몽\\n3. 손흥민  \\n\\n요청하신 3명을 다시 정리해드렸습니다. 추가 요청이 있으시면 언제든지 말씀해주세요.' additional_kwargs={} response_metadata={} name='answer_question' id='7e467adc-3483-4617-a294-66b631f9fe57'\n"
     ]
    }
   ],
   "source": [
    "from langchain_core.messages import HumanMessage\n",
    "from langgraph.constants import START, END\n",
    "from langgraph.prebuilt import InjectedState\n",
    "from langgraph.graph import StateGraph\n",
    "from typing import Literal\n",
    "import functools\n",
    "\n",
    "\n",
    "def anwser_tool( \n",
    "        messages: str\n",
    "    ) -> dict:\n",
    "    \n",
    "    print(f\"anwser_tool - messages: {messages}\")\n",
    "\n",
    "    response = llm.invoke(\n",
    "        [\n",
    "            HumanMessage(\n",
    "                content=messages\n",
    "            )\n",
    "        ]\n",
    "    )\n",
    "    print(f\"anwser_tool - messages: {response}\")\n",
    "    \n",
    "    # result = llm.invoke(messages)\n",
    "    return response\n",
    "\n",
    "\n",
    "agent_tools = [\n",
    "                StructuredTool.from_function(\n",
    "                    anwser_tool, \n",
    "                    name=\"anwser_tool\", \n",
    "                    description=mesage_context_prompt, \n",
    "                    args_schema=MessageContext\n",
    "                )\n",
    "            ]\n",
    "\n",
    "workflow_graph_builder = StateGraph(QuestionState)\n",
    "    \n",
    "workflow_graph_builder.add_node(\n",
    "    \"answer_question\", \n",
    "    functools.partial(\n",
    "        answer_question_agent_dict, \n",
    "        agent=answer_question_agent(\n",
    "            llm=llm,\n",
    "            tools=agent_tools, \n",
    "            system_message=question_agent_prompt\n",
    "        ), \n",
    "        name=\"answer_question\"\n",
    "    )\n",
    ")\n",
    "workflow_graph_builder.add_node(\"debug\", debug_state)\n",
    "\n",
    "workflow_graph_builder.add_edge(START, \"answer_question\")\n",
    "workflow_graph_builder.add_edge(\"answer_question\", \"debug\")\n",
    "workflow_graph_builder.add_edge(\"debug\", END)\n",
    "\n",
    "workflow_app = workflow_graph_builder.compile()\n",
    "\n",
    "result = workflow_app.invoke({\n",
    "    \"histories\" : [HumanMessage(content=\"\"\"  \n",
    "                    아래는 시대‧분야를 두루 아우르는 한국의 대표적 위인 100인을 간단히 나열한 목록입니다 (번호는 순위가 아니라 열거 순서입니다).\n",
    "                   \"\"\"),\n",
    "                   HumanMessage(content=\"\"\"\n",
    "                   단군왕검, 고주몽, 박혁거세, 김수로왕, 근초고왕, 을지문덕, 연개소문, 계백, 김유신, 문무왕, 원효, 의상, 장보고, 설총, 강감찬, 서희, 최영, 최무선, 지눌, 이규보, 공민왕, 이성계, 정도전, 정몽주, 황희, 세종대왕, 장영실, 김종서, 한석봉, 이황(퇴계), 이이(율곡), 허준, 신사임당, 황진이, 김만덕, 유성룡, 권율, 이순신, 김시민, 곽재우, 김정호, 홍대용, 박지원(연암), 박제가, 정약용(다산), 김정희(추사), 김홍도(단원), 신윤복(혜원), 최치원, 허균, 김옥균, 박영효, 서재필(필립 제이슨), 이상설, 이회영, 안중근, 김구, 도산 안창호, 윤봉길, 이봉창, 유관순, 김좌진, 홍범도, 최재형, 신채호, 박은식, 한용운(만해), 윤동주, 이상화, 여운형, 조만식, 김규식, 최현배, 이승만, 김성수, 장면, 박정희, 김대중, 김영삼, 노무현, 문재인, 이병철, 구인회, 정주영, 이건희, 박태준, 유일한, 백남준, 김환기, 이중섭, 윤이상, 정명훈, 손기정, 차범근, 박지성, 손흥민, 김연아, 우장춘, 장지연, 안익태\"\"\")],\n",
    "    \"messages\": [HumanMessage(content=\"위의 사람중에서 무작위로 3명만 다시 정리해줘\")]\n",
    "})\n",
    "\n",
    "print(f\"\"\"workflow_app.invoke 결과 : {result[\"messages\"][1]}\"\"\")"
   ]
  }
 ],
 "metadata": {
  "kernelspec": {
   "display_name": "base",
   "language": "python",
   "name": "python3"
  },
  "language_info": {
   "codemirror_mode": {
    "name": "ipython",
    "version": 3
   },
   "file_extension": ".py",
   "mimetype": "text/x-python",
   "name": "python",
   "nbconvert_exporter": "python",
   "pygments_lexer": "ipython3",
   "version": "3.12.7"
  }
 },
 "nbformat": 4,
 "nbformat_minor": 5
}
