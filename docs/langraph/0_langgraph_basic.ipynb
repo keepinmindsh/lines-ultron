{
 "cells": [
  {
   "cell_type": "markdown",
   "metadata": {},
   "source": [
    "# 기본 Chatbot을 이용해서 Langraph 구현하기"
   ]
  },
  {
   "cell_type": "markdown",
   "metadata": {},
   "source": [
    "StateGraph : 기본 챗봇의 구조를 \"상태 머신\"으로 정의한다.   \n",
    "Nodes : 우리의 챗봇을 호출할 수 있는 LLM과 함수를 작성하기위한 Node를 추가   \n",
    "Edge : 함수들 사이를 봇이 어떻게 전환할 것인지를 특정하기 위한 Edge를 추가    "
   ]
  },
  {
   "cell_type": "markdown",
   "metadata": {},
   "source": [
    "## 라이브러리 설치"
   ]
  },
  {
   "cell_type": "code",
   "execution_count": 1,
   "metadata": {
    "ExecuteTime": {
     "end_time": "2025-04-10T06:03:44.506318Z",
     "start_time": "2025-04-10T06:03:42.677069Z"
    }
   },
   "outputs": [],
   "source": [
    "%%capture\n",
    "\n",
    "# update or install the necessary libraries\n",
    "\n",
    "%pip install langgraph\n",
    "%pip install --upgrade \\\n",
    "    langchain==0.1.14 \\\n",
    "    langchain-core==0.1.31 \\\n",
    "    langchain-openai==0.1.3\n",
    "%pip install --upgrade python-dotenv"
   ]
  },
  {
   "cell_type": "code",
   "execution_count": 2,
   "metadata": {
    "ExecuteTime": {
     "end_time": "2025-04-10T06:03:49.546549Z",
     "start_time": "2025-04-10T06:03:49.536850Z"
    }
   },
   "outputs": [
    {
     "data": {
      "text/plain": [
       "True"
      ]
     },
     "execution_count": 2,
     "metadata": {},
     "output_type": "execute_result"
    }
   ],
   "source": [
    "from dotenv import load_dotenv\n",
    "\n",
    "load_dotenv()"
   ]
  },
  {
   "cell_type": "code",
   "execution_count": 3,
   "metadata": {},
   "outputs": [],
   "source": [
    "from langchain_openai import ChatOpenAI\n",
    "\n",
    "llm = ChatOpenAI()"
   ]
  },
  {
   "cell_type": "markdown",
   "metadata": {},
   "source": [
    "## 기본 코드 작성"
   ]
  },
  {
   "cell_type": "markdown",
   "metadata": {},
   "source": [
    "### StateGraph 정의 \n",
    "\n",
    "- State : 애플리케이션의 현재 상태를 나타내는 공유 데이터 구조 \n",
    "  - 전체 워크플로우의 컨텍스트 유지; 노드 간 정보 공유; TypedDict 또는 Pydantic BaseModel로 정의 "
   ]
  },
  {
   "cell_type": "code",
   "execution_count": 4,
   "metadata": {},
   "outputs": [
    {
     "name": "stdout",
     "output_type": "stream",
     "text": [
      "{'counter': 1}\n"
     ]
    }
   ],
   "source": [
    "from langgraph.graph import StateGraph, START, END\n",
    "# Python의 typing 모듈에서 TypedDict를 가져옵니다.\n",
    "# TypedDict는 딕셔너리의 키와 값의 타입을 미리 정의할 수 있게 해주는 도구입니다.\n",
    "from typing import TypedDict\n",
    "\n",
    "# 그래프의 상태를 정의하는 클래스\n",
    "# MyState라는 새로운 클래스를 만듭니다.\n",
    "# 이 클래스는 TypedDict를 기반으로 합니다.\n",
    "class MyState(TypedDict):\n",
    "    # MyState 클래스 안에 counter라는 항목을 만듭니다.\n",
    "    # 이 항목은 정수(int) 타입입니다.\n",
    "    counter: int\n",
    "\n",
    "# StateGraph 인스턴스 생성\n",
    "graph = StateGraph(MyState)\n",
    "\n",
    "# 카운터를 증가시키는 노드 함수 정의\n",
    "def increment(state):\n",
    "    return {\"counter\": state[\"counter\"] + 1}\n",
    "\n",
    "# 'increment' 노드 추가\n",
    "graph.add_node(\"increment\", increment)\n",
    "\n",
    "# START에서 'increment' 노드로 엣지 추가\n",
    "graph.add_edge(START, \"increment\")\n",
    "\n",
    "# 'increment' 노드에서 END로 엣지 추가\n",
    "graph.add_edge(\"increment\", END)\n",
    "\n",
    "# 그래프 컴파일\n",
    "increament_graph = graph.compile()\n",
    "\n",
    "# 그래프 실행\n",
    "result = increament_graph.invoke({\"counter\": 0})\n",
    "print(result)"
   ]
  },
  {
   "cell_type": "code",
   "execution_count": 5,
   "metadata": {},
   "outputs": [
    {
     "data": {
      "image/png": "[encoded data removed]",
      "text/plain": [
       "<IPython.core.display.Image object>"
      ]
     },
     "metadata": {},
     "output_type": "display_data"
    }
   ],
   "source": [
    "from IPython.display import Image, display\n",
    "\n",
    "try:\n",
    "    display(Image(increament_graph.get_graph().draw_mermaid_png()))\n",
    "except Exception:\n",
    "    # This requires some extra dependencies and is optional\n",
    "    pass"
   ]
  },
  {
   "cell_type": "markdown",
   "metadata": {},
   "source": [
    "### Node / Edge 정의 \n",
    "\n",
    "Node들은 작업의 단위(Unit Of Work)를 나타낸다. \n",
    "\n",
    "- Nodes: 실제 작업을 수행하는 Python 항수들 \n",
    "- Edges :노드 간의 연결을 정의 하는 요소 "
   ]
  },
  {
   "cell_type": "code",
   "execution_count": 6,
   "metadata": {
    "ExecuteTime": {
     "end_time": "2025-04-10T06:04:05.694645Z",
     "start_time": "2025-04-10T06:04:05.520818Z"
    }
   },
   "outputs": [],
   "source": [
    "from typing import Annotated\n",
    "\n",
    "from typing_extensions import TypedDict\n",
    "\n",
    "from langgraph.graph import StateGraph, START, END\n",
    "from langgraph.graph.message import add_messages\n",
    "\n",
    "\n",
    "class State(TypedDict):\n",
    "    # Messages have the type \"list\". The `add_messages` function\n",
    "    # in the annotation defines how this state key should be updated\n",
    "    # (in this case, it appends messages to the list, rather than overwriting them)\n",
    "    messages: Annotated[list, add_messages]\n",
    "\n",
    "\n",
    "graph_builder = StateGraph(State)\n",
    "\n",
    "def chatbot(state: State):\n",
    "    return {\"messages\": [llm.invoke(state[\"messages\"])]}\n",
    "\n",
    "# The first argument is the unique node name\n",
    "# The second argument is the function or object that will be called whenever\n",
    "# the node is used.\n",
    "graph_builder.add_node(\"chatbot\", chatbot)\n",
    "\n",
    "graph_builder.add_edge(START, \"chatbot\")\n",
    "\n",
    "graph_builder.add_edge(\"chatbot\", END)\n",
    "\n",
    "graph = graph_builder.compile()"
   ]
  },
  {
   "cell_type": "markdown",
   "metadata": {},
   "source": [
    "### Graph 확인하기 "
   ]
  },
  {
   "cell_type": "code",
   "execution_count": 7,
   "metadata": {
    "ExecuteTime": {
     "end_time": "2025-04-10T06:04:12.758181Z",
     "start_time": "2025-04-10T06:04:12.251974Z"
    }
   },
   "outputs": [
    {
     "data": {
      "image/png": "[encoded data removed]",
      "text/plain": [
       "<IPython.core.display.Image object>"
      ]
     },
     "metadata": {},
     "output_type": "display_data"
    }
   ],
   "source": [
    "from IPython.display import Image, display\n",
    "\n",
    "try:\n",
    "    display(Image(graph.get_graph().draw_mermaid_png()))\n",
    "except Exception:\n",
    "    # This requires some extra dependencies and is optional\n",
    "    pass"
   ]
  },
  {
   "cell_type": "markdown",
   "metadata": {},
   "source": [
    "# Multi-Agent Supvisor \n",
    "\n",
    "- [Agent Supervisor](https://langchain-ai.github.io/langgraph/tutorials/multi_agent/agent_supervisor/)"
   ]
  },
  {
   "cell_type": "markdown",
   "metadata": {},
   "source": [
    "#### 상태 정의"
   ]
  },
  {
   "cell_type": "code",
   "execution_count": 8,
   "metadata": {},
   "outputs": [],
   "source": [
    "from typing import TypedDict\n",
    "\n",
    "class QuestionState(TypedDict):\n",
    "    messages: str"
   ]
  },
  {
   "cell_type": "markdown",
   "metadata": {},
   "source": [
    "#### Agent / Tool Prompt 정의 "
   ]
  },
  {
   "cell_type": "code",
   "execution_count": 9,
   "metadata": {},
   "outputs": [],
   "source": [
    "question_agent_prompt = \"\"\"\n",
    "your are a question agent app only can do an operation if you need other then call other app. Use Korean Language.\n",
    "\"\"\"\n",
    "\n",
    "mesage_context_prompt = \"\"\"\n",
    "This tool is a wrapper for answering messages.\n",
    "\n",
    "**VERY IMPORTANT**  \n",
    "Your input to this tool MUST message and string type. \n",
    "\n",
    "**Don't change result of json result by your self, Just return exact result.**\n",
    "**Response format :** should be in JSON String.\n",
    "\"\"\""
   ]
  },
  {
   "cell_type": "code",
   "execution_count": 10,
   "metadata": {},
   "outputs": [
    {
     "name": "stderr",
     "output_type": "stream",
     "text": [
      "/opt/anaconda3/lib/python3.12/site-packages/IPython/core/interactiveshell.py:3577: LangChainDeprecationWarning: As of langchain-core 0.3.0, LangChain uses pydantic v2 internally. The langchain_core.pydantic_v1 module was a compatibility shim for pydantic v1, and should no longer be used. Please update the code to import from Pydantic directly.\n",
      "\n",
      "For example, replace imports like: `from langchain_core.pydantic_v1 import BaseModel`\n",
      "with: `from pydantic import BaseModel`\n",
      "or the v1 compatibility namespace if you are working in a code base that has not been fully upgraded to pydantic 2 yet. \tfrom pydantic.v1 import BaseModel\n",
      "\n",
      "  exec(code_obj, self.user_global_ns, self.user_ns)\n"
     ]
    }
   ],
   "source": [
    "from langchain_core.tools import StructuredTool\n",
    "from langchain_core.pydantic_v1 import BaseModel, Field\n",
    "\n",
    "class MessageContext(BaseModel):\n",
    "    messages: str = Field(..., description=\"messages\")\n",
    "\n",
    "def anwser_tool(messages) -> dict:\n",
    "    result = llm.invoke(messages)\n",
    "    print(result)\n",
    "\n",
    "    return {\n",
    "        \"messages\" : [\n",
    "            result\n",
    "        ],\n",
    "    }\n",
    "\n",
    "agent_tools = [\n",
    "                StructuredTool.from_function(\n",
    "                    anwser_tool, \n",
    "                    name=\"anwser\", \n",
    "                    description=mesage_context_prompt, \n",
    "                    args_schema=MessageContext\n",
    "                )\n",
    "            ]"
   ]
  },
  {
   "cell_type": "code",
   "execution_count": 11,
   "metadata": {},
   "outputs": [],
   "source": [
    "from langchain_core.messages import HumanMessage\n",
    "from langchain_core.prompts import ChatPromptTemplate, MessagesPlaceholder\n",
    "from langchain.agents import create_tool_calling_agent, AgentExecutor\n",
    "\n",
    "def answer_question_agent_dict(state, agent, name):\n",
    "    result = agent.invoke(state)\n",
    "\n",
    "    # 기본적으로 출력되는 메시지\n",
    "    output_state = {\n",
    "        \"messages\": [HumanMessage(content=result[\"output\"], name=name)]\n",
    "    }\n",
    "    return output_state\n",
    "\n",
    "\n",
    "def answer_question_agent(llm, tools, system_message: str):\n",
    "    \"\"\"Create an app.\"\"\"\n",
    "    prompt = ChatPromptTemplate.from_messages(\n",
    "        [\n",
    "            (\n",
    "                \"system\",\n",
    "                \"You are a helpful AI assistant, collaborating with other assistants.\"\n",
    "                \" Use the provided tools to progress towards answering the question.\"\n",
    "                \" If you are unable to fully answer, that's OK, another assistant with different tools \"\n",
    "                \" will help where you left off. Execute what you can to make progress.\"\n",
    "                \" If you or any of the other assistants have the final answer or deliverable,\"\n",
    "                \" You have access to the following tools: {tool_names}.\\n{system_message}\",\n",
    "            ),\n",
    "            MessagesPlaceholder(variable_name=\"messages\"),\n",
    "            MessagesPlaceholder(variable_name=\"agent_scratchpad\"),\n",
    "        ]\n",
    "    )\n",
    "    prompt = prompt.partial(system_message=system_message)\n",
    "    prompt = prompt.partial(tool_names=\", \".join([tool.name for tool in tools]))\n",
    "    agent = create_tool_calling_agent(llm, tools, prompt)\n",
    "    executor = AgentExecutor(agent=agent, tools=tools)\n",
    "    return executor"
   ]
  },
  {
   "cell_type": "code",
   "execution_count": 12,
   "metadata": {},
   "outputs": [
    {
     "name": "stdout",
     "output_type": "stream",
     "text": [
      "{'messages': [HumanMessage(content='안녕하세요! 무엇을 도와드릴까요?', additional_kwargs={}, response_metadata={}, name='answer_question')]}\n"
     ]
    }
   ],
   "source": [
    "from langchain_core.messages import HumanMessage\n",
    "from langgraph.constants import START, END\n",
    "from langgraph.graph import StateGraph\n",
    "import functools\n",
    "  \n",
    "\n",
    "workflow_graph_builder = StateGraph(QuestionState)\n",
    "    \n",
    "workflow_graph_builder.add_node(\n",
    "    \"answer_question\", \n",
    "    functools.partial(\n",
    "        answer_question_agent_dict, \n",
    "        agent=answer_question_agent(\n",
    "            llm=llm,\n",
    "            tools=agent_tools, \n",
    "            system_message=question_agent_prompt\n",
    "        ), \n",
    "        name=\"answer_question\"\n",
    "    )\n",
    ")\n",
    "\n",
    "workflow_graph_builder.add_edge(START, \"answer_question\")\n",
    "workflow_graph_builder.add_edge(\"answer_question\", END)\n",
    "\n",
    "workflow_app = workflow_graph_builder.compile()\n",
    "\n",
    "result = workflow_app.invoke({\n",
    "    \"messages\": [HumanMessage(content=\"안녕하세요?\")]\n",
    "})\n",
    "\n",
    "print(result)"
   ]
  }
 ],
 "metadata": {
  "kernelspec": {
   "display_name": "base",
   "language": "python",
   "name": "python3"
  },
  "language_info": {
   "codemirror_mode": {
    "name": "ipython",
    "version": 3
   },
   "file_extension": ".py",
   "mimetype": "text/x-python",
   "name": "python",
   "nbconvert_exporter": "python",
   "pygments_lexer": "ipython3",
   "version": "3.12.7"
  }
 },
 "nbformat": 4,
 "nbformat_minor": 2
}
